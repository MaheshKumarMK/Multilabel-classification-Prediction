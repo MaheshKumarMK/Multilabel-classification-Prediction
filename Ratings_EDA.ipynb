{
  "cells": [
    {
      "cell_type": "markdown",
      "metadata": {
        "id": "view-in-github",
        "colab_type": "text"
      },
      "source": [
        "<a href=\"https://colab.research.google.com/github/MaheshKumarMK/Restaurant-rating-prediction/blob/main/Ratings_EDA.ipynb\" target=\"_parent\"><img src=\"https://colab.research.google.com/assets/colab-badge.svg\" alt=\"Open In Colab\"/></a>"
      ]
    },
    {
      "cell_type": "code",
      "execution_count": 2,
      "metadata": {
        "colab": {
          "base_uri": "https://localhost:8080/"
        },
        "id": "lfTreM_065AL",
        "outputId": "571fc049-43fc-4590-b5eb-8dae3ce7857e"
      },
      "outputs": [
        {
          "output_type": "stream",
          "name": "stdout",
          "text": [
            "Looking in indexes: https://pypi.org/simple, https://us-python.pkg.dev/colab-wheels/public/simple/\n",
            "Requirement already satisfied: kaggle in /usr/local/lib/python3.8/dist-packages (1.5.12)\n",
            "Requirement already satisfied: certifi in /usr/local/lib/python3.8/dist-packages (from kaggle) (2022.9.24)\n",
            "Requirement already satisfied: requests in /usr/local/lib/python3.8/dist-packages (from kaggle) (2.23.0)\n",
            "Requirement already satisfied: tqdm in /usr/local/lib/python3.8/dist-packages (from kaggle) (4.64.1)\n",
            "Requirement already satisfied: python-slugify in /usr/local/lib/python3.8/dist-packages (from kaggle) (7.0.0)\n",
            "Requirement already satisfied: python-dateutil in /usr/local/lib/python3.8/dist-packages (from kaggle) (2.8.2)\n",
            "Requirement already satisfied: urllib3 in /usr/local/lib/python3.8/dist-packages (from kaggle) (1.24.3)\n",
            "Requirement already satisfied: six>=1.10 in /usr/local/lib/python3.8/dist-packages (from kaggle) (1.15.0)\n",
            "Requirement already satisfied: text-unidecode>=1.3 in /usr/local/lib/python3.8/dist-packages (from python-slugify->kaggle) (1.3)\n",
            "Requirement already satisfied: chardet<4,>=3.0.2 in /usr/local/lib/python3.8/dist-packages (from requests->kaggle) (3.0.4)\n",
            "Requirement already satisfied: idna<3,>=2.5 in /usr/local/lib/python3.8/dist-packages (from requests->kaggle) (2.10)\n"
          ]
        }
      ],
      "source": [
        "!pip install kaggle\n"
      ]
    },
    {
      "cell_type": "code",
      "execution_count": 3,
      "metadata": {
        "id": "CczrBylL8FdZ"
      },
      "outputs": [],
      "source": [
        "! mkdir ~/.kaggle\n"
      ]
    },
    {
      "cell_type": "code",
      "execution_count": 4,
      "metadata": {
        "id": "-DaBgel-8Z_O"
      },
      "outputs": [],
      "source": [
        "from google.colab import files"
      ]
    },
    {
      "cell_type": "code",
      "execution_count": 5,
      "metadata": {
        "colab": {
          "base_uri": "https://localhost:8080/",
          "height": 91
        },
        "id": "NPpj3Od3825N",
        "outputId": "6bba1c4a-01aa-4e5f-a844-233c4f39c9bd"
      },
      "outputs": [
        {
          "output_type": "display_data",
          "data": {
            "text/plain": [
              "<IPython.core.display.HTML object>"
            ],
            "text/html": [
              "\n",
              "     <input type=\"file\" id=\"files-1fb46c46-983c-4c97-a4dc-72659db8b9ee\" name=\"files[]\" multiple disabled\n",
              "        style=\"border:none\" />\n",
              "     <output id=\"result-1fb46c46-983c-4c97-a4dc-72659db8b9ee\">\n",
              "      Upload widget is only available when the cell has been executed in the\n",
              "      current browser session. Please rerun this cell to enable.\n",
              "      </output>\n",
              "      <script>// Copyright 2017 Google LLC\n",
              "//\n",
              "// Licensed under the Apache License, Version 2.0 (the \"License\");\n",
              "// you may not use this file except in compliance with the License.\n",
              "// You may obtain a copy of the License at\n",
              "//\n",
              "//      http://www.apache.org/licenses/LICENSE-2.0\n",
              "//\n",
              "// Unless required by applicable law or agreed to in writing, software\n",
              "// distributed under the License is distributed on an \"AS IS\" BASIS,\n",
              "// WITHOUT WARRANTIES OR CONDITIONS OF ANY KIND, either express or implied.\n",
              "// See the License for the specific language governing permissions and\n",
              "// limitations under the License.\n",
              "\n",
              "/**\n",
              " * @fileoverview Helpers for google.colab Python module.\n",
              " */\n",
              "(function(scope) {\n",
              "function span(text, styleAttributes = {}) {\n",
              "  const element = document.createElement('span');\n",
              "  element.textContent = text;\n",
              "  for (const key of Object.keys(styleAttributes)) {\n",
              "    element.style[key] = styleAttributes[key];\n",
              "  }\n",
              "  return element;\n",
              "}\n",
              "\n",
              "// Max number of bytes which will be uploaded at a time.\n",
              "const MAX_PAYLOAD_SIZE = 100 * 1024;\n",
              "\n",
              "function _uploadFiles(inputId, outputId) {\n",
              "  const steps = uploadFilesStep(inputId, outputId);\n",
              "  const outputElement = document.getElementById(outputId);\n",
              "  // Cache steps on the outputElement to make it available for the next call\n",
              "  // to uploadFilesContinue from Python.\n",
              "  outputElement.steps = steps;\n",
              "\n",
              "  return _uploadFilesContinue(outputId);\n",
              "}\n",
              "\n",
              "// This is roughly an async generator (not supported in the browser yet),\n",
              "// where there are multiple asynchronous steps and the Python side is going\n",
              "// to poll for completion of each step.\n",
              "// This uses a Promise to block the python side on completion of each step,\n",
              "// then passes the result of the previous step as the input to the next step.\n",
              "function _uploadFilesContinue(outputId) {\n",
              "  const outputElement = document.getElementById(outputId);\n",
              "  const steps = outputElement.steps;\n",
              "\n",
              "  const next = steps.next(outputElement.lastPromiseValue);\n",
              "  return Promise.resolve(next.value.promise).then((value) => {\n",
              "    // Cache the last promise value to make it available to the next\n",
              "    // step of the generator.\n",
              "    outputElement.lastPromiseValue = value;\n",
              "    return next.value.response;\n",
              "  });\n",
              "}\n",
              "\n",
              "/**\n",
              " * Generator function which is called between each async step of the upload\n",
              " * process.\n",
              " * @param {string} inputId Element ID of the input file picker element.\n",
              " * @param {string} outputId Element ID of the output display.\n",
              " * @return {!Iterable<!Object>} Iterable of next steps.\n",
              " */\n",
              "function* uploadFilesStep(inputId, outputId) {\n",
              "  const inputElement = document.getElementById(inputId);\n",
              "  inputElement.disabled = false;\n",
              "\n",
              "  const outputElement = document.getElementById(outputId);\n",
              "  outputElement.innerHTML = '';\n",
              "\n",
              "  const pickedPromise = new Promise((resolve) => {\n",
              "    inputElement.addEventListener('change', (e) => {\n",
              "      resolve(e.target.files);\n",
              "    });\n",
              "  });\n",
              "\n",
              "  const cancel = document.createElement('button');\n",
              "  inputElement.parentElement.appendChild(cancel);\n",
              "  cancel.textContent = 'Cancel upload';\n",
              "  const cancelPromise = new Promise((resolve) => {\n",
              "    cancel.onclick = () => {\n",
              "      resolve(null);\n",
              "    };\n",
              "  });\n",
              "\n",
              "  // Wait for the user to pick the files.\n",
              "  const files = yield {\n",
              "    promise: Promise.race([pickedPromise, cancelPromise]),\n",
              "    response: {\n",
              "      action: 'starting',\n",
              "    }\n",
              "  };\n",
              "\n",
              "  cancel.remove();\n",
              "\n",
              "  // Disable the input element since further picks are not allowed.\n",
              "  inputElement.disabled = true;\n",
              "\n",
              "  if (!files) {\n",
              "    return {\n",
              "      response: {\n",
              "        action: 'complete',\n",
              "      }\n",
              "    };\n",
              "  }\n",
              "\n",
              "  for (const file of files) {\n",
              "    const li = document.createElement('li');\n",
              "    li.append(span(file.name, {fontWeight: 'bold'}));\n",
              "    li.append(span(\n",
              "        `(${file.type || 'n/a'}) - ${file.size} bytes, ` +\n",
              "        `last modified: ${\n",
              "            file.lastModifiedDate ? file.lastModifiedDate.toLocaleDateString() :\n",
              "                                    'n/a'} - `));\n",
              "    const percent = span('0% done');\n",
              "    li.appendChild(percent);\n",
              "\n",
              "    outputElement.appendChild(li);\n",
              "\n",
              "    const fileDataPromise = new Promise((resolve) => {\n",
              "      const reader = new FileReader();\n",
              "      reader.onload = (e) => {\n",
              "        resolve(e.target.result);\n",
              "      };\n",
              "      reader.readAsArrayBuffer(file);\n",
              "    });\n",
              "    // Wait for the data to be ready.\n",
              "    let fileData = yield {\n",
              "      promise: fileDataPromise,\n",
              "      response: {\n",
              "        action: 'continue',\n",
              "      }\n",
              "    };\n",
              "\n",
              "    // Use a chunked sending to avoid message size limits. See b/62115660.\n",
              "    let position = 0;\n",
              "    do {\n",
              "      const length = Math.min(fileData.byteLength - position, MAX_PAYLOAD_SIZE);\n",
              "      const chunk = new Uint8Array(fileData, position, length);\n",
              "      position += length;\n",
              "\n",
              "      const base64 = btoa(String.fromCharCode.apply(null, chunk));\n",
              "      yield {\n",
              "        response: {\n",
              "          action: 'append',\n",
              "          file: file.name,\n",
              "          data: base64,\n",
              "        },\n",
              "      };\n",
              "\n",
              "      let percentDone = fileData.byteLength === 0 ?\n",
              "          100 :\n",
              "          Math.round((position / fileData.byteLength) * 100);\n",
              "      percent.textContent = `${percentDone}% done`;\n",
              "\n",
              "    } while (position < fileData.byteLength);\n",
              "  }\n",
              "\n",
              "  // All done.\n",
              "  yield {\n",
              "    response: {\n",
              "      action: 'complete',\n",
              "    }\n",
              "  };\n",
              "}\n",
              "\n",
              "scope.google = scope.google || {};\n",
              "scope.google.colab = scope.google.colab || {};\n",
              "scope.google.colab._files = {\n",
              "  _uploadFiles,\n",
              "  _uploadFilesContinue,\n",
              "};\n",
              "})(self);\n",
              "</script> "
            ]
          },
          "metadata": {}
        },
        {
          "output_type": "stream",
          "name": "stdout",
          "text": [
            "Saving kaggle.json to kaggle.json\n"
          ]
        },
        {
          "output_type": "execute_result",
          "data": {
            "text/plain": [
              "{'kaggle.json': b'{\"username\":\"maheshkumarvb\",\"key\":\"647bab5cd8accdc60925b3743c531b47\"}'}"
            ]
          },
          "metadata": {},
          "execution_count": 5
        }
      ],
      "source": [
        "files.upload()"
      ]
    },
    {
      "cell_type": "code",
      "execution_count": 6,
      "metadata": {
        "id": "5N6tIVgK86K9"
      },
      "outputs": [],
      "source": [
        "! cp kaggle.json ~/.kaggle/"
      ]
    },
    {
      "cell_type": "code",
      "execution_count": 7,
      "metadata": {
        "id": "HUZFii109DVc"
      },
      "outputs": [],
      "source": [
        " ! chmod 600 ~/.kaggle/kaggle.json"
      ]
    },
    {
      "cell_type": "code",
      "execution_count": 8,
      "metadata": {
        "colab": {
          "base_uri": "https://localhost:8080/"
        },
        "id": "hSLJ-Quc9K5k",
        "outputId": "6b0c4fa8-1b54-4cfe-ad70-ea5e255cbef6"
      },
      "outputs": [
        {
          "output_type": "stream",
          "name": "stdout",
          "text": [
            "ref                                                            title                                                size  lastUpdated          downloadCount  voteCount  usabilityRating  \n",
            "-------------------------------------------------------------  --------------------------------------------------  -----  -------------------  -------------  ---------  ---------------  \n",
            "meirnizri/covid19-dataset                                      COVID-19 Dataset                                      5MB  2022-11-13 15:47:17           8692        258  1.0              \n",
            "mattop/alcohol-consumption-per-capita-2016                     Alcohol Consumption Per Capita 2016                   4KB  2022-12-09 00:03:11            797         29  1.0              \n",
            "thedevastator/jobs-dataset-from-glassdoor                      Salary Prediction                                     3MB  2022-11-16 13:52:31           5589        124  1.0              \n",
            "swaptr/fifa-world-cup-2022-statistics                          FIFA World Cup 2022 Team Data                        15KB  2022-12-11 22:08:40           1795         49  0.9117647        \n",
            "elmoallistair/emmision-of-air-pollutants                       Emmision of Air Pollutants                            1MB  2022-12-08 07:25:01            661         24  1.0              \n",
            "whenamancodes/predict-diabities                                Predict Diabetes                                      9KB  2022-11-09 12:18:49           5734        102  1.0              \n",
            "mvieira101/global-cost-of-living                               Global Cost of Living                                 1MB  2022-12-03 16:37:53           2154         51  0.9705882        \n",
            "die9origephit/fifa-world-cup-2022-complete-dataset             Fifa World Cup 2022: Complete Dataset                 7KB  2022-12-11 16:54:08           1073         54  0.9411765        \n",
            "tirendazacademy/fifa-world-cup-2022-tweets                     FIFA World Cup 2022 Tweets                            1MB  2022-12-08 19:43:37            610         28  1.0              \n",
            "thedevastator/australian-housing-data-1000-properties-sampled  Australian Housing Prices                            51KB  2022-11-28 13:19:40            925         24  1.0              \n",
            "laibaanwer/superstore-sales-dataset                            SuperStore Sales Dataset                              2MB  2022-12-07 08:53:32            722         26  1.0              \n",
            "madhurpant/world-deaths-and-causes-1990-2019                   World Deaths and Causes (1990 - 2019)               442KB  2022-11-29 07:09:27           1625         38  1.0              \n",
            "prosperchuks/health-dataset                                    Diabetes, Hypertension and Stroke Prediction        750KB  2022-12-13 13:15:19           2578         60  1.0              \n",
            "akshaydattatraykhare/data-for-admission-in-the-university      Data for Admission in the University                  4KB  2022-10-27 11:05:45           9021        191  1.0              \n",
            "thedevastator/cancer-patients-and-air-pollution-a-new-link      Lung Cancer Prediction                               7KB  2022-11-14 13:40:40           3432         75  1.0              \n",
            "catherinerasgaitis/mxmh-survey-results                         Music & Mental Health Survey Results                 22KB  2022-11-21 10:03:12           2161         47  1.0              \n",
            "tusharaggarwal27/2022-dec-world-populations                    World Population By Countries ((1970)) to ((2050))   19KB  2022-12-08 02:23:40            791         35  1.0              \n",
            "williecosta/economic-guide-to-college-majors                   Economic Guide to College Majors (data from 538)     11KB  2022-12-01 00:03:23            549         26  1.0              \n",
            "theakhilb/layoffs-data-2022                                    Layoffs Dataset 2022                                104KB  2022-12-12 05:40:34           1120         31  1.0              \n",
            "dbarteaux99/stable-diffusion-1-5                               Stable Diffusion 1.5 (normal and EMAonly) with vae    7GB  2022-10-23 15:40:29            205         21  0.9375           \n"
          ]
        }
      ],
      "source": [
        " ! kaggle datasets list"
      ]
    },
    {
      "cell_type": "code",
      "execution_count": 9,
      "metadata": {
        "colab": {
          "base_uri": "https://localhost:8080/"
        },
        "id": "_bBhQRss9SF9",
        "outputId": "82d83453-7629-449b-855e-7798431992d7"
      },
      "outputs": [
        {
          "output_type": "stream",
          "name": "stdout",
          "text": [
            "ref                                                            title                                                size  lastUpdated          downloadCount  voteCount  usabilityRating  \n",
            "-------------------------------------------------------------  --------------------------------------------------  -----  -------------------  -------------  ---------  ---------------  \n",
            "himanshupoddar/zomato-bangalore-restaurants                    Zomato Bangalore Restaurants                         89MB  2019-03-31 09:48:43          47865       1180  1.0              \n",
            "vora1011/zomato-bangalore-restaurants-2022                     Zomato Bangalore Restaurants 2022                   702KB  2022-03-26 13:07:54            754         28  1.0              \n",
            "aestheteaman01/zomato-restaurant-caf-dataset-pune-bangalore    Zomato Restaurants in Metropolitan Areas of India   791KB  2021-08-30 19:10:34            770         42  1.0              \n",
            "vora1011/zomato-kolkata-restaurants-2022                       Zomato Kolkata Restaurants 2022                     375KB  2022-03-22 17:01:29            149         12  1.0              \n",
            "absin7/zomato-bangalore-dataset                                Zomato Bangalore Dataset                             89MB  2020-10-17 19:59:31           2133         24  0.8235294        \n",
            "datacertlaboratoria/capstone                                   Proyecto 6: Capstone                                  1KB  2022-07-13 17:12:33             77          6  1.0              \n",
            "shreyaspj/restaurants-in-bangalore                             Restaurants in Bangalore                            467KB  2020-08-15 07:10:50            115         19  0.4117647        \n",
            "datacertlaboratoria/projeto-6                                  Projeto 6: Capstone                                   1KB  2022-07-13 20:49:59             40          6  1.0              \n",
            "ngokulakannan/zomato-india-restaurants2-lakh-restaurants-data  Zomato India Restaurants(2 Lakh+ restaurants data)   53MB  2020-03-19 05:35:36            642         11  0.64705884       \n",
            "aartithakurdocs/zomato                                         Zomato                                               17KB  2021-06-05 07:10:19              5          0  0.125            \n"
          ]
        }
      ],
      "source": [
        " !kaggle datasets list -s \"Zomato Bangalore Restaurants\""
      ]
    },
    {
      "cell_type": "code",
      "execution_count": 10,
      "metadata": {
        "colab": {
          "base_uri": "https://localhost:8080/"
        },
        "id": "Jwrytk8I9prF",
        "outputId": "95ed9103-127e-4529-9030-7141047e54f6"
      },
      "outputs": [
        {
          "output_type": "stream",
          "name": "stdout",
          "text": [
            "Downloading zomato-bangalore-restaurants.zip to /content\n",
            " 90% 80.0M/89.0M [00:00<00:00, 135MB/s]\n",
            "100% 89.0M/89.0M [00:00<00:00, 124MB/s]\n"
          ]
        }
      ],
      "source": [
        "! kaggle datasets download -d  'himanshupoddar/zomato-bangalore-restaurants'"
      ]
    },
    {
      "cell_type": "code",
      "execution_count": 11,
      "metadata": {
        "colab": {
          "base_uri": "https://localhost:8080/"
        },
        "id": "OJx6QwVc_GRG",
        "outputId": "7beff9ce-c758-441d-f89d-5d9df09e4007"
      },
      "outputs": [
        {
          "output_type": "stream",
          "name": "stdout",
          "text": [
            "Archive:  zomato-bangalore-restaurants.zip\n",
            "  inflating: zomato.csv              \n"
          ]
        }
      ],
      "source": [
        "!unzip zomato-bangalore-restaurants.zip"
      ]
    },
    {
      "cell_type": "code",
      "execution_count": 11,
      "metadata": {
        "id": "FihmI7WZCQN2"
      },
      "outputs": [],
      "source": []
    },
    {
      "cell_type": "code",
      "execution_count": 12,
      "metadata": {
        "id": "gS0U4_KaEdF-",
        "colab": {
          "base_uri": "https://localhost:8080/"
        },
        "outputId": "d878a6e1-1ea1-4ab6-e7a6-9702bb700af8"
      },
      "outputs": [
        {
          "output_type": "stream",
          "name": "stdout",
          "text": [
            "Looking in indexes: https://pypi.org/simple, https://us-python.pkg.dev/colab-wheels/public/simple/\n",
            "Collecting catboost\n",
            "  Downloading catboost-1.1.1-cp38-none-manylinux1_x86_64.whl (76.6 MB)\n",
            "\u001b[K     |████████████████████████████████| 76.6 MB 1.2 MB/s \n",
            "\u001b[?25hRequirement already satisfied: matplotlib in /usr/local/lib/python3.8/dist-packages (from catboost) (3.2.2)\n",
            "Requirement already satisfied: plotly in /usr/local/lib/python3.8/dist-packages (from catboost) (5.5.0)\n",
            "Requirement already satisfied: scipy in /usr/local/lib/python3.8/dist-packages (from catboost) (1.7.3)\n",
            "Requirement already satisfied: six in /usr/local/lib/python3.8/dist-packages (from catboost) (1.15.0)\n",
            "Requirement already satisfied: pandas>=0.24.0 in /usr/local/lib/python3.8/dist-packages (from catboost) (1.3.5)\n",
            "Requirement already satisfied: graphviz in /usr/local/lib/python3.8/dist-packages (from catboost) (0.10.1)\n",
            "Requirement already satisfied: numpy>=1.16.0 in /usr/local/lib/python3.8/dist-packages (from catboost) (1.21.6)\n",
            "Requirement already satisfied: pytz>=2017.3 in /usr/local/lib/python3.8/dist-packages (from pandas>=0.24.0->catboost) (2022.6)\n",
            "Requirement already satisfied: python-dateutil>=2.7.3 in /usr/local/lib/python3.8/dist-packages (from pandas>=0.24.0->catboost) (2.8.2)\n",
            "Requirement already satisfied: pyparsing!=2.0.4,!=2.1.2,!=2.1.6,>=2.0.1 in /usr/local/lib/python3.8/dist-packages (from matplotlib->catboost) (3.0.9)\n",
            "Requirement already satisfied: cycler>=0.10 in /usr/local/lib/python3.8/dist-packages (from matplotlib->catboost) (0.11.0)\n",
            "Requirement already satisfied: kiwisolver>=1.0.1 in /usr/local/lib/python3.8/dist-packages (from matplotlib->catboost) (1.4.4)\n",
            "Requirement already satisfied: tenacity>=6.2.0 in /usr/local/lib/python3.8/dist-packages (from plotly->catboost) (8.1.0)\n",
            "Installing collected packages: catboost\n",
            "Successfully installed catboost-1.1.1\n"
          ]
        }
      ],
      "source": [
        "\n",
        "#importing required libraries\n",
        "\n",
        "import pandas as pd\n",
        "import seaborn as sns\n",
        "import numpy as np\n",
        "from statistics import mean\n",
        "import matplotlib.pyplot as plt\n",
        "import warnings\n",
        "\n",
        "\n",
        "!pip install catboost\n",
        "from sklearn.preprocessing import PowerTransformer\n",
        "from sklearn.preprocessing import LabelEncoder\n",
        "from sklearn.pipeline import Pipeline\n",
        "from sklearn.utils import resample\n",
        "\n",
        "from sklearn.linear_model import LogisticRegression\n",
        "from sklearn.ensemble import RandomForestClassifier, AdaBoostClassifier, GradientBoostingClassifier, RandomForestRegressor\n",
        "from sklearn.neighbors import KNeighborsClassifier\n",
        "from sklearn.tree import DecisionTreeClassifier\n",
        "from sklearn.svm import SVC\n",
        "from sklearn.metrics import accuracy_score, classification_report,ConfusionMatrixDisplay, \\\n",
        "                            precision_score, recall_score, f1_score, roc_auc_score,roc_curve,confusion_matrix\n",
        "\n",
        "from sklearn import metrics \n",
        "from sklearn.model_selection import  train_test_split, RepeatedStratifiedKFold, cross_val_score\n",
        "from sklearn.preprocessing import OneHotEncoder, MinMaxScaler\n",
        "from sklearn.compose import ColumnTransformer\n",
        "from sklearn.impute import SimpleImputer, KNNImputer\n",
        "from xgboost import XGBClassifier\n",
        "from sklearn.preprocessing import StandardScaler, MinMaxScaler,RobustScaler\n",
        "from sklearn.compose import ColumnTransformer\n",
        "from catboost import CatBoostClassifier\n",
        "from sklearn.experimental import enable_iterative_imputer\n",
        "from sklearn.impute import IterativeImputer\n",
        "\n",
        "warnings.filterwarnings(\"ignore\")\n",
        "%matplotlib inline"
      ]
    },
    {
      "cell_type": "code",
      "execution_count": 13,
      "metadata": {
        "id": "WluO8z9vDdI2"
      },
      "outputs": [],
      "source": [
        "zomato_df = pd.read_csv(\"zomato.csv\")"
      ]
    },
    {
      "cell_type": "code",
      "execution_count": 14,
      "metadata": {
        "colab": {
          "base_uri": "https://localhost:8080/",
          "height": 652
        },
        "id": "P5M3kIQNEaBJ",
        "outputId": "0a175196-c421-4e77-f51a-f190115ae553"
      },
      "outputs": [
        {
          "output_type": "execute_result",
          "data": {
            "text/plain": [
              "                                                 url  \\\n",
              "0  https://www.zomato.com/bangalore/jalsa-banasha...   \n",
              "1  https://www.zomato.com/bangalore/spice-elephan...   \n",
              "2  https://www.zomato.com/SanchurroBangalore?cont...   \n",
              "3  https://www.zomato.com/bangalore/addhuri-udupi...   \n",
              "4  https://www.zomato.com/bangalore/grand-village...   \n",
              "\n",
              "                                             address                   name  \\\n",
              "0  942, 21st Main Road, 2nd Stage, Banashankari, ...                  Jalsa   \n",
              "1  2nd Floor, 80 Feet Road, Near Big Bazaar, 6th ...         Spice Elephant   \n",
              "2  1112, Next to KIMS Medical College, 17th Cross...        San Churro Cafe   \n",
              "3  1st Floor, Annakuteera, 3rd Stage, Banashankar...  Addhuri Udupi Bhojana   \n",
              "4  10, 3rd Floor, Lakshmi Associates, Gandhi Baza...          Grand Village   \n",
              "\n",
              "  online_order book_table   rate  votes                             phone  \\\n",
              "0          Yes        Yes  4.1/5    775    080 42297555\\r\\n+91 9743772233   \n",
              "1          Yes         No  4.1/5    787                      080 41714161   \n",
              "2          Yes         No  3.8/5    918                    +91 9663487993   \n",
              "3           No         No  3.7/5     88                    +91 9620009302   \n",
              "4           No         No  3.8/5    166  +91 8026612447\\r\\n+91 9901210005   \n",
              "\n",
              "       location            rest_type  \\\n",
              "0  Banashankari        Casual Dining   \n",
              "1  Banashankari        Casual Dining   \n",
              "2  Banashankari  Cafe, Casual Dining   \n",
              "3  Banashankari          Quick Bites   \n",
              "4  Basavanagudi        Casual Dining   \n",
              "\n",
              "                                          dish_liked  \\\n",
              "0  Pasta, Lunch Buffet, Masala Papad, Paneer Laja...   \n",
              "1  Momos, Lunch Buffet, Chocolate Nirvana, Thai G...   \n",
              "2  Churros, Cannelloni, Minestrone Soup, Hot Choc...   \n",
              "3                                        Masala Dosa   \n",
              "4                                Panipuri, Gol Gappe   \n",
              "\n",
              "                         cuisines approx_cost(for two people)  \\\n",
              "0  North Indian, Mughlai, Chinese                         800   \n",
              "1     Chinese, North Indian, Thai                         800   \n",
              "2          Cafe, Mexican, Italian                         800   \n",
              "3      South Indian, North Indian                         300   \n",
              "4        North Indian, Rajasthani                         600   \n",
              "\n",
              "                                        reviews_list menu_item  \\\n",
              "0  [('Rated 4.0', 'RATED\\n  A beautiful place to ...        []   \n",
              "1  [('Rated 4.0', 'RATED\\n  Had been here for din...        []   \n",
              "2  [('Rated 3.0', \"RATED\\n  Ambience is not that ...        []   \n",
              "3  [('Rated 4.0', \"RATED\\n  Great food and proper...        []   \n",
              "4  [('Rated 4.0', 'RATED\\n  Very good restaurant ...        []   \n",
              "\n",
              "  listed_in(type) listed_in(city)  \n",
              "0          Buffet    Banashankari  \n",
              "1          Buffet    Banashankari  \n",
              "2          Buffet    Banashankari  \n",
              "3          Buffet    Banashankari  \n",
              "4          Buffet    Banashankari  "
            ],
            "text/html": [
              "\n",
              "  <div id=\"df-0de9357c-8a4a-4071-a410-5e835ad8b8b2\">\n",
              "    <div class=\"colab-df-container\">\n",
              "      <div>\n",
              "<style scoped>\n",
              "    .dataframe tbody tr th:only-of-type {\n",
              "        vertical-align: middle;\n",
              "    }\n",
              "\n",
              "    .dataframe tbody tr th {\n",
              "        vertical-align: top;\n",
              "    }\n",
              "\n",
              "    .dataframe thead th {\n",
              "        text-align: right;\n",
              "    }\n",
              "</style>\n",
              "<table border=\"1\" class=\"dataframe\">\n",
              "  <thead>\n",
              "    <tr style=\"text-align: right;\">\n",
              "      <th></th>\n",
              "      <th>url</th>\n",
              "      <th>address</th>\n",
              "      <th>name</th>\n",
              "      <th>online_order</th>\n",
              "      <th>book_table</th>\n",
              "      <th>rate</th>\n",
              "      <th>votes</th>\n",
              "      <th>phone</th>\n",
              "      <th>location</th>\n",
              "      <th>rest_type</th>\n",
              "      <th>dish_liked</th>\n",
              "      <th>cuisines</th>\n",
              "      <th>approx_cost(for two people)</th>\n",
              "      <th>reviews_list</th>\n",
              "      <th>menu_item</th>\n",
              "      <th>listed_in(type)</th>\n",
              "      <th>listed_in(city)</th>\n",
              "    </tr>\n",
              "  </thead>\n",
              "  <tbody>\n",
              "    <tr>\n",
              "      <th>0</th>\n",
              "      <td>https://www.zomato.com/bangalore/jalsa-banasha...</td>\n",
              "      <td>942, 21st Main Road, 2nd Stage, Banashankari, ...</td>\n",
              "      <td>Jalsa</td>\n",
              "      <td>Yes</td>\n",
              "      <td>Yes</td>\n",
              "      <td>4.1/5</td>\n",
              "      <td>775</td>\n",
              "      <td>080 42297555\\r\\n+91 9743772233</td>\n",
              "      <td>Banashankari</td>\n",
              "      <td>Casual Dining</td>\n",
              "      <td>Pasta, Lunch Buffet, Masala Papad, Paneer Laja...</td>\n",
              "      <td>North Indian, Mughlai, Chinese</td>\n",
              "      <td>800</td>\n",
              "      <td>[('Rated 4.0', 'RATED\\n  A beautiful place to ...</td>\n",
              "      <td>[]</td>\n",
              "      <td>Buffet</td>\n",
              "      <td>Banashankari</td>\n",
              "    </tr>\n",
              "    <tr>\n",
              "      <th>1</th>\n",
              "      <td>https://www.zomato.com/bangalore/spice-elephan...</td>\n",
              "      <td>2nd Floor, 80 Feet Road, Near Big Bazaar, 6th ...</td>\n",
              "      <td>Spice Elephant</td>\n",
              "      <td>Yes</td>\n",
              "      <td>No</td>\n",
              "      <td>4.1/5</td>\n",
              "      <td>787</td>\n",
              "      <td>080 41714161</td>\n",
              "      <td>Banashankari</td>\n",
              "      <td>Casual Dining</td>\n",
              "      <td>Momos, Lunch Buffet, Chocolate Nirvana, Thai G...</td>\n",
              "      <td>Chinese, North Indian, Thai</td>\n",
              "      <td>800</td>\n",
              "      <td>[('Rated 4.0', 'RATED\\n  Had been here for din...</td>\n",
              "      <td>[]</td>\n",
              "      <td>Buffet</td>\n",
              "      <td>Banashankari</td>\n",
              "    </tr>\n",
              "    <tr>\n",
              "      <th>2</th>\n",
              "      <td>https://www.zomato.com/SanchurroBangalore?cont...</td>\n",
              "      <td>1112, Next to KIMS Medical College, 17th Cross...</td>\n",
              "      <td>San Churro Cafe</td>\n",
              "      <td>Yes</td>\n",
              "      <td>No</td>\n",
              "      <td>3.8/5</td>\n",
              "      <td>918</td>\n",
              "      <td>+91 9663487993</td>\n",
              "      <td>Banashankari</td>\n",
              "      <td>Cafe, Casual Dining</td>\n",
              "      <td>Churros, Cannelloni, Minestrone Soup, Hot Choc...</td>\n",
              "      <td>Cafe, Mexican, Italian</td>\n",
              "      <td>800</td>\n",
              "      <td>[('Rated 3.0', \"RATED\\n  Ambience is not that ...</td>\n",
              "      <td>[]</td>\n",
              "      <td>Buffet</td>\n",
              "      <td>Banashankari</td>\n",
              "    </tr>\n",
              "    <tr>\n",
              "      <th>3</th>\n",
              "      <td>https://www.zomato.com/bangalore/addhuri-udupi...</td>\n",
              "      <td>1st Floor, Annakuteera, 3rd Stage, Banashankar...</td>\n",
              "      <td>Addhuri Udupi Bhojana</td>\n",
              "      <td>No</td>\n",
              "      <td>No</td>\n",
              "      <td>3.7/5</td>\n",
              "      <td>88</td>\n",
              "      <td>+91 9620009302</td>\n",
              "      <td>Banashankari</td>\n",
              "      <td>Quick Bites</td>\n",
              "      <td>Masala Dosa</td>\n",
              "      <td>South Indian, North Indian</td>\n",
              "      <td>300</td>\n",
              "      <td>[('Rated 4.0', \"RATED\\n  Great food and proper...</td>\n",
              "      <td>[]</td>\n",
              "      <td>Buffet</td>\n",
              "      <td>Banashankari</td>\n",
              "    </tr>\n",
              "    <tr>\n",
              "      <th>4</th>\n",
              "      <td>https://www.zomato.com/bangalore/grand-village...</td>\n",
              "      <td>10, 3rd Floor, Lakshmi Associates, Gandhi Baza...</td>\n",
              "      <td>Grand Village</td>\n",
              "      <td>No</td>\n",
              "      <td>No</td>\n",
              "      <td>3.8/5</td>\n",
              "      <td>166</td>\n",
              "      <td>+91 8026612447\\r\\n+91 9901210005</td>\n",
              "      <td>Basavanagudi</td>\n",
              "      <td>Casual Dining</td>\n",
              "      <td>Panipuri, Gol Gappe</td>\n",
              "      <td>North Indian, Rajasthani</td>\n",
              "      <td>600</td>\n",
              "      <td>[('Rated 4.0', 'RATED\\n  Very good restaurant ...</td>\n",
              "      <td>[]</td>\n",
              "      <td>Buffet</td>\n",
              "      <td>Banashankari</td>\n",
              "    </tr>\n",
              "  </tbody>\n",
              "</table>\n",
              "</div>\n",
              "      <button class=\"colab-df-convert\" onclick=\"convertToInteractive('df-0de9357c-8a4a-4071-a410-5e835ad8b8b2')\"\n",
              "              title=\"Convert this dataframe to an interactive table.\"\n",
              "              style=\"display:none;\">\n",
              "        \n",
              "  <svg xmlns=\"http://www.w3.org/2000/svg\" height=\"24px\"viewBox=\"0 0 24 24\"\n",
              "       width=\"24px\">\n",
              "    <path d=\"M0 0h24v24H0V0z\" fill=\"none\"/>\n",
              "    <path d=\"M18.56 5.44l.94 2.06.94-2.06 2.06-.94-2.06-.94-.94-2.06-.94 2.06-2.06.94zm-11 1L8.5 8.5l.94-2.06 2.06-.94-2.06-.94L8.5 2.5l-.94 2.06-2.06.94zm10 10l.94 2.06.94-2.06 2.06-.94-2.06-.94-.94-2.06-.94 2.06-2.06.94z\"/><path d=\"M17.41 7.96l-1.37-1.37c-.4-.4-.92-.59-1.43-.59-.52 0-1.04.2-1.43.59L10.3 9.45l-7.72 7.72c-.78.78-.78 2.05 0 2.83L4 21.41c.39.39.9.59 1.41.59.51 0 1.02-.2 1.41-.59l7.78-7.78 2.81-2.81c.8-.78.8-2.07 0-2.86zM5.41 20L4 18.59l7.72-7.72 1.47 1.35L5.41 20z\"/>\n",
              "  </svg>\n",
              "      </button>\n",
              "      \n",
              "  <style>\n",
              "    .colab-df-container {\n",
              "      display:flex;\n",
              "      flex-wrap:wrap;\n",
              "      gap: 12px;\n",
              "    }\n",
              "\n",
              "    .colab-df-convert {\n",
              "      background-color: #E8F0FE;\n",
              "      border: none;\n",
              "      border-radius: 50%;\n",
              "      cursor: pointer;\n",
              "      display: none;\n",
              "      fill: #1967D2;\n",
              "      height: 32px;\n",
              "      padding: 0 0 0 0;\n",
              "      width: 32px;\n",
              "    }\n",
              "\n",
              "    .colab-df-convert:hover {\n",
              "      background-color: #E2EBFA;\n",
              "      box-shadow: 0px 1px 2px rgba(60, 64, 67, 0.3), 0px 1px 3px 1px rgba(60, 64, 67, 0.15);\n",
              "      fill: #174EA6;\n",
              "    }\n",
              "\n",
              "    [theme=dark] .colab-df-convert {\n",
              "      background-color: #3B4455;\n",
              "      fill: #D2E3FC;\n",
              "    }\n",
              "\n",
              "    [theme=dark] .colab-df-convert:hover {\n",
              "      background-color: #434B5C;\n",
              "      box-shadow: 0px 1px 3px 1px rgba(0, 0, 0, 0.15);\n",
              "      filter: drop-shadow(0px 1px 2px rgba(0, 0, 0, 0.3));\n",
              "      fill: #FFFFFF;\n",
              "    }\n",
              "  </style>\n",
              "\n",
              "      <script>\n",
              "        const buttonEl =\n",
              "          document.querySelector('#df-0de9357c-8a4a-4071-a410-5e835ad8b8b2 button.colab-df-convert');\n",
              "        buttonEl.style.display =\n",
              "          google.colab.kernel.accessAllowed ? 'block' : 'none';\n",
              "\n",
              "        async function convertToInteractive(key) {\n",
              "          const element = document.querySelector('#df-0de9357c-8a4a-4071-a410-5e835ad8b8b2');\n",
              "          const dataTable =\n",
              "            await google.colab.kernel.invokeFunction('convertToInteractive',\n",
              "                                                     [key], {});\n",
              "          if (!dataTable) return;\n",
              "\n",
              "          const docLinkHtml = 'Like what you see? Visit the ' +\n",
              "            '<a target=\"_blank\" href=https://colab.research.google.com/notebooks/data_table.ipynb>data table notebook</a>'\n",
              "            + ' to learn more about interactive tables.';\n",
              "          element.innerHTML = '';\n",
              "          dataTable['output_type'] = 'display_data';\n",
              "          await google.colab.output.renderOutput(dataTable, element);\n",
              "          const docLink = document.createElement('div');\n",
              "          docLink.innerHTML = docLinkHtml;\n",
              "          element.appendChild(docLink);\n",
              "        }\n",
              "      </script>\n",
              "    </div>\n",
              "  </div>\n",
              "  "
            ]
          },
          "metadata": {},
          "execution_count": 14
        }
      ],
      "source": [
        "zomato_df.head()"
      ]
    },
    {
      "cell_type": "code",
      "execution_count": 15,
      "metadata": {
        "colab": {
          "base_uri": "https://localhost:8080/"
        },
        "id": "RuPpQtd4EjDx",
        "outputId": "cf52f51a-c800-41c4-b4f7-8e5620f98efd"
      },
      "outputs": [
        {
          "output_type": "execute_result",
          "data": {
            "text/plain": [
              "(51717, 17)"
            ]
          },
          "metadata": {},
          "execution_count": 15
        }
      ],
      "source": [
        "zomato_df.shape"
      ]
    },
    {
      "cell_type": "code",
      "execution_count": 16,
      "metadata": {
        "colab": {
          "base_uri": "https://localhost:8080/"
        },
        "id": "c5BQBMksyO7S",
        "outputId": "77a37ae2-1ff0-4ec7-f6bb-1bdfc0ef0781"
      },
      "outputs": [
        {
          "output_type": "execute_result",
          "data": {
            "text/plain": [
              "Index(['url', 'address', 'name', 'online_order', 'book_table', 'rate', 'votes',\n",
              "       'phone', 'location', 'rest_type', 'dish_liked', 'cuisines',\n",
              "       'approx_cost(for two people)', 'reviews_list', 'menu_item',\n",
              "       'listed_in(type)', 'listed_in(city)'],\n",
              "      dtype='object')"
            ]
          },
          "metadata": {},
          "execution_count": 16
        }
      ],
      "source": [
        "zomato_df.columns"
      ]
    },
    {
      "cell_type": "code",
      "execution_count": 17,
      "metadata": {
        "id": "BwiN1rPeyV-h"
      },
      "outputs": [],
      "source": [
        "zomato_df=zomato_df.rename(columns={\"approx_cost(for two people)\":\"cost\"})"
      ]
    },
    {
      "cell_type": "code",
      "execution_count": 18,
      "metadata": {
        "colab": {
          "base_uri": "https://localhost:8080/"
        },
        "id": "qh0nad6UyYxM",
        "outputId": "266910a2-3a29-4518-f513-7a92625c9c71"
      },
      "outputs": [
        {
          "output_type": "execute_result",
          "data": {
            "text/plain": [
              "url                object\n",
              "address            object\n",
              "name               object\n",
              "online_order       object\n",
              "book_table         object\n",
              "rate               object\n",
              "votes               int64\n",
              "phone              object\n",
              "location           object\n",
              "rest_type          object\n",
              "dish_liked         object\n",
              "cuisines           object\n",
              "cost               object\n",
              "reviews_list       object\n",
              "menu_item          object\n",
              "listed_in(type)    object\n",
              "listed_in(city)    object\n",
              "dtype: object"
            ]
          },
          "metadata": {},
          "execution_count": 18
        }
      ],
      "source": [
        "zomato_df.dtypes"
      ]
    },
    {
      "cell_type": "code",
      "execution_count": 19,
      "metadata": {
        "colab": {
          "base_uri": "https://localhost:8080/"
        },
        "id": "ewbVnYarybVp",
        "outputId": "53823595-df4e-4377-a3f8-b94550490879"
      },
      "outputs": [
        {
          "output_type": "execute_result",
          "data": {
            "text/plain": [
              "array(['800', '300', '600', '700', '550', '500', '450', '650', '400',\n",
              "       '900', '200', '750', '150', '850', '100', '1,200', '350', '250',\n",
              "       '950', '1,000', '1,500', '1,300', '199', '80', '1,100', '160',\n",
              "       '1,600', '230', '130', '50', '190', '1,700', nan, '1,400', '180',\n",
              "       '1,350', '2,200', '2,000', '1,800', '1,900', '330', '2,500',\n",
              "       '2,100', '3,000', '2,800', '3,400', '40', '1,250', '3,500',\n",
              "       '4,000', '2,400', '2,600', '120', '1,450', '469', '70', '3,200',\n",
              "       '60', '560', '240', '360', '6,000', '1,050', '2,300', '4,100',\n",
              "       '5,000', '3,700', '1,650', '2,700', '4,500', '140'], dtype=object)"
            ]
          },
          "metadata": {},
          "execution_count": 19
        }
      ],
      "source": [
        "zomato_df[\"cost\"].unique()"
      ]
    },
    {
      "cell_type": "code",
      "execution_count": 20,
      "metadata": {
        "id": "WVgkZezOydRp"
      },
      "outputs": [],
      "source": [
        "zomato_df[\"cost\"]=zomato_df[\"cost\"].astype(str)\n",
        "zomato_df[\"cost\"]=zomato_df[\"cost\"].apply(lambda x: x.replace(\",\",\"\")).astype(float)"
      ]
    },
    {
      "cell_type": "code",
      "execution_count": 21,
      "metadata": {
        "id": "F4f332tgytVR"
      },
      "outputs": [],
      "source": [
        "zomato_df_object=zomato_df.select_dtypes(include=\"object\").astype(str)\n",
        "col=zomato_df_object.columns.to_list()"
      ]
    },
    {
      "cell_type": "code",
      "execution_count": 22,
      "metadata": {
        "colab": {
          "base_uri": "https://localhost:8080/"
        },
        "id": "fplVOf_uzK7a",
        "outputId": "7120d577-1632-4565-c04a-138dbf542aef"
      },
      "outputs": [
        {
          "output_type": "execute_result",
          "data": {
            "text/plain": [
              "0"
            ]
          },
          "metadata": {},
          "execution_count": 22
        }
      ],
      "source": [
        "zomato_df.duplicated(keep=\"first\").sum()"
      ]
    },
    {
      "cell_type": "code",
      "execution_count": 23,
      "metadata": {
        "colab": {
          "base_uri": "https://localhost:8080/"
        },
        "id": "jNImqMuTzNrY",
        "outputId": "25332aba-89f2-4260-fa05-f6639a76ce0b"
      },
      "outputs": [
        {
          "output_type": "execute_result",
          "data": {
            "text/plain": [
              "url                    0\n",
              "address                0\n",
              "name                   0\n",
              "online_order           0\n",
              "book_table             0\n",
              "rate                7775\n",
              "votes                  0\n",
              "phone               1208\n",
              "location              21\n",
              "rest_type            227\n",
              "dish_liked         28078\n",
              "cuisines              45\n",
              "cost                 346\n",
              "reviews_list           0\n",
              "menu_item              0\n",
              "listed_in(type)        0\n",
              "listed_in(city)        0\n",
              "dtype: int64"
            ]
          },
          "metadata": {},
          "execution_count": 23
        }
      ],
      "source": [
        "zomato_df.isnull().sum()"
      ]
    },
    {
      "cell_type": "code",
      "execution_count": 24,
      "metadata": {
        "colab": {
          "base_uri": "https://localhost:8080/",
          "height": 621
        },
        "id": "DSreBIXfzQjY",
        "outputId": "cd026dc2-c95a-4cdb-d5ec-a312c2d4f5a2"
      },
      "outputs": [
        {
          "output_type": "display_data",
          "data": {
            "text/plain": [
              "<Figure size 1440x720 with 1 Axes>"
            ],
            "image/png": "[encoded data removed]"
          },
          "metadata": {
            "needs_background": "light"
          }
        }
      ],
      "source": [
        "fig, ax = plt.subplots(figsize=(20,10))\n",
        "missing = zomato_df.isnull().sum().div(zomato_df.shape[0]).mul(100).to_frame().sort_values(by =0, ascending=False)\n",
        "plt.barh(missing.index, missing.values.T[0])\n",
        "plt.xlabel('Percentage of missing values')\n",
        "plt.ylabel(\"variables\")\n",
        "plt.title('Quantifying missing data');"
      ]
    },
    {
      "cell_type": "code",
      "execution_count": 25,
      "metadata": {
        "id": "EbfhfgGpzYiw"
      },
      "outputs": [],
      "source": [
        "#Dropping col having missing values more than 50%\n",
        "def drop_column_50(df):\n",
        "    percentage_missing = df.isnull().sum().div(df.shape[0]).mul(100)\n",
        "    col_drop=percentage_missing[percentage_missing.values>50]\n",
        "    df=df.drop(col_drop.index, axis=1)\n",
        "    return df.columns"
      ]
    },
    {
      "cell_type": "code",
      "execution_count": 26,
      "metadata": {
        "colab": {
          "base_uri": "https://localhost:8080/"
        },
        "id": "6s6EEpFvzbUo",
        "outputId": "da535128-e1fd-4ce6-adc4-5c1c97218155"
      },
      "outputs": [
        {
          "output_type": "execute_result",
          "data": {
            "text/plain": [
              "Index(['url', 'address', 'name', 'online_order', 'book_table', 'rate', 'votes',\n",
              "       'phone', 'location', 'rest_type', 'cuisines', 'cost', 'reviews_list',\n",
              "       'menu_item', 'listed_in(type)', 'listed_in(city)'],\n",
              "      dtype='object')"
            ]
          },
          "metadata": {},
          "execution_count": 26
        }
      ],
      "source": [
        "drop_column_50(zomato_df)"
      ]
    },
    {
      "cell_type": "code",
      "execution_count": 27,
      "metadata": {
        "colab": {
          "base_uri": "https://localhost:8080/"
        },
        "id": "xNKaPbuYzdjB",
        "outputId": "62b61ab7-3ab9-4ec8-d46a-42d9472c87d7"
      },
      "outputs": [
        {
          "output_type": "execute_result",
          "data": {
            "text/plain": [
              "array(['4.1/5', '3.8/5', '3.7/5', '3.6/5', '4.6/5', '4.0/5', '4.2/5',\n",
              "       '3.9/5', '3.1/5', '3.0/5', '3.2/5', '3.3/5', '2.8/5', '4.4/5',\n",
              "       '4.3/5', 'NEW', '2.9/5', '3.5/5', nan, '2.6/5', '3.8 /5', '3.4/5',\n",
              "       '4.5/5', '2.5/5', '2.7/5', '4.7/5', '2.4/5', '2.2/5', '2.3/5',\n",
              "       '3.4 /5', '-', '3.6 /5', '4.8/5', '3.9 /5', '4.2 /5', '4.0 /5',\n",
              "       '4.1 /5', '3.7 /5', '3.1 /5', '2.9 /5', '3.3 /5', '2.8 /5',\n",
              "       '3.5 /5', '2.7 /5', '2.5 /5', '3.2 /5', '2.6 /5', '4.5 /5',\n",
              "       '4.3 /5', '4.4 /5', '4.9/5', '2.1/5', '2.0/5', '1.8/5', '4.6 /5',\n",
              "       '4.9 /5', '3.0 /5', '4.8 /5', '2.3 /5', '4.7 /5', '2.4 /5',\n",
              "       '2.1 /5', '2.2 /5', '2.0 /5', '1.8 /5'], dtype=object)"
            ]
          },
          "metadata": {},
          "execution_count": 27
        }
      ],
      "source": [
        "zomato_df[\"rate\"].unique()"
      ]
    },
    {
      "cell_type": "code",
      "execution_count": 28,
      "metadata": {
        "id": "fVXUFnskzfvA"
      },
      "outputs": [],
      "source": [
        "# Dropping menu_item col having >70% of irrelavant datas\n",
        "zomato_df.drop(\"menu_item\", inplace=True, axis=1 )"
      ]
    },
    {
      "cell_type": "code",
      "execution_count": 29,
      "metadata": {
        "colab": {
          "base_uri": "https://localhost:8080/"
        },
        "id": "BKGE5Erxzibg",
        "outputId": "ed81b6bd-297f-46c1-efa4-d46e3be1b991"
      },
      "outputs": [
        {
          "output_type": "execute_result",
          "data": {
            "text/plain": [
              "Index(['url', 'address', 'name', 'online_order', 'book_table', 'rate', 'votes',\n",
              "       'phone', 'location', 'rest_type', 'dish_liked', 'cuisines', 'cost',\n",
              "       'reviews_list', 'listed_in(type)', 'listed_in(city)'],\n",
              "      dtype='object')"
            ]
          },
          "metadata": {},
          "execution_count": 29
        }
      ],
      "source": [
        "zomato_df.columns"
      ]
    },
    {
      "cell_type": "code",
      "execution_count": 30,
      "metadata": {
        "id": "sf-bTUqrzj9A"
      },
      "outputs": [],
      "source": [
        "## Transforming the rate column"
      ]
    },
    {
      "cell_type": "code",
      "execution_count": 31,
      "metadata": {
        "colab": {
          "base_uri": "https://localhost:8080/"
        },
        "id": "sYQdohbUzpgI",
        "outputId": "d925a9bb-846d-48ad-d4df-cf0d64b096ef"
      },
      "outputs": [
        {
          "output_type": "execute_result",
          "data": {
            "text/plain": [
              "NEW       0.050248\n",
              "3.9/5     0.047745\n",
              "3.8/5     0.046015\n",
              "3.7/5     0.045765\n",
              "3.9 /5    0.042647\n",
              "            ...   \n",
              "2.2 /5    0.000159\n",
              "2.0 /5    0.000159\n",
              "2.0/5     0.000091\n",
              "1.8 /5    0.000068\n",
              "1.8/5     0.000046\n",
              "Name: rate, Length: 64, dtype: float64"
            ]
          },
          "metadata": {},
          "execution_count": 31
        }
      ],
      "source": [
        "zomato_df[\"rate\"].value_counts(normalize=True)"
      ]
    },
    {
      "cell_type": "code",
      "execution_count": 32,
      "metadata": {
        "id": "x-jLwwY6zyLI"
      },
      "outputs": [],
      "source": [
        "zomato_df[\"rate\"]=zomato_df[\"rate\"].astype(str)\n",
        "zomato_df[\"rate\"]=zomato_df[\"rate\"].apply(lambda x: x.replace(\"/5\", \"\")).apply(lambda x: x.strip())\n",
        "zomato_df[\"rate\"]=zomato_df[\"rate\"].apply(lambda x: x.replace(\"NEW\", str(np.nan)).replace(\"-\", str(np.nan)))\n",
        "zomato_df[\"rate\"]=zomato_df[\"rate\"].replace(\"nan\", 0.0).astype(float)"
      ]
    },
    {
      "cell_type": "code",
      "execution_count": 33,
      "metadata": {
        "id": "bNK0ZNF5zz7A"
      },
      "outputs": [],
      "source": [
        "df1=zomato_df.drop(columns={'url', 'address', 'phone', 'location', 'rest_type', 'reviews_list' })"
      ]
    },
    {
      "cell_type": "code",
      "execution_count": 34,
      "metadata": {
        "id": "zwwpLKfVz1ho"
      },
      "outputs": [],
      "source": [
        "res=df1.groupby(by='listed_in(city)')['name'].count()\n",
        "df1.loc[:,('name','listed_in(city)')].duplicated().sum()\n",
        "res_=df1.loc[:,('name','listed_in(city)')].drop_duplicates(keep=\"first\")\n",
        "n_res=res_.groupby(by='listed_in(city)')['name'].count().to_frame().sort_values(by=\"name\", ascending =False)"
      ]
    },
    {
      "cell_type": "code",
      "execution_count": 35,
      "metadata": {
        "colab": {
          "base_uri": "https://localhost:8080/",
          "height": 606
        },
        "id": "xJGANeY5z96Y",
        "outputId": "0d969b55-7931-418b-8090-bfbc9020b50b"
      },
      "outputs": [
        {
          "output_type": "display_data",
          "data": {
            "text/plain": [
              "<Figure size 720x720 with 1 Axes>"
            ],
            "image/png": "[encoded data removed]"
          },
          "metadata": {
            "needs_background": "light"
          }
        }
      ],
      "source": [
        "plt.figure(figsize=(10, 10))\n",
        "sns.barplot(data=res_, y=n_res.index, x=n_res.values.T[0])\n",
        "plt.ylabel('Location')\n",
        "plt.xlabel('No of resturants');"
      ]
    },
    {
      "cell_type": "code",
      "execution_count": 36,
      "metadata": {
        "colab": {
          "base_uri": "https://localhost:8080/",
          "height": 455
        },
        "id": "a1fwC5poz_sn",
        "outputId": "27ebbb6d-574a-4d86-e039-fc86c1f7bb37"
      },
      "outputs": [
        {
          "output_type": "execute_result",
          "data": {
            "text/plain": [
              "                                       city\n",
              "name            listed_in(city)            \n",
              "Float           Bellandur                 6\n",
              "Biryani Darbar  Electronic City           6\n",
              "Hammered        Frazer Town               6\n",
              "Sagar Fast Food Koramangala 5th Block     6\n",
              "Bun Town        BTM                       6\n",
              "...                                     ...\n",
              "Kamat Upahaar   New BEL Road              1\n",
              "Kamat Swaad     Koramangala 7th Block     1\n",
              "                Basavanagudi              1\n",
              "                Bannerghatta Road         1\n",
              "sCoolMeal       Koramangala 7th Block     1\n",
              "\n",
              "[31681 rows x 1 columns]"
            ],
            "text/html": [
              "\n",
              "  <div id=\"df-62a824fa-f128-4e1d-817b-b993b6144a9e\">\n",
              "    <div class=\"colab-df-container\">\n",
              "      <div>\n",
              "<style scoped>\n",
              "    .dataframe tbody tr th:only-of-type {\n",
              "        vertical-align: middle;\n",
              "    }\n",
              "\n",
              "    .dataframe tbody tr th {\n",
              "        vertical-align: top;\n",
              "    }\n",
              "\n",
              "    .dataframe thead th {\n",
              "        text-align: right;\n",
              "    }\n",
              "</style>\n",
              "<table border=\"1\" class=\"dataframe\">\n",
              "  <thead>\n",
              "    <tr style=\"text-align: right;\">\n",
              "      <th></th>\n",
              "      <th></th>\n",
              "      <th>city</th>\n",
              "    </tr>\n",
              "    <tr>\n",
              "      <th>name</th>\n",
              "      <th>listed_in(city)</th>\n",
              "      <th></th>\n",
              "    </tr>\n",
              "  </thead>\n",
              "  <tbody>\n",
              "    <tr>\n",
              "      <th>Float</th>\n",
              "      <th>Bellandur</th>\n",
              "      <td>6</td>\n",
              "    </tr>\n",
              "    <tr>\n",
              "      <th>Biryani Darbar</th>\n",
              "      <th>Electronic City</th>\n",
              "      <td>6</td>\n",
              "    </tr>\n",
              "    <tr>\n",
              "      <th>Hammered</th>\n",
              "      <th>Frazer Town</th>\n",
              "      <td>6</td>\n",
              "    </tr>\n",
              "    <tr>\n",
              "      <th>Sagar Fast Food</th>\n",
              "      <th>Koramangala 5th Block</th>\n",
              "      <td>6</td>\n",
              "    </tr>\n",
              "    <tr>\n",
              "      <th>Bun Town</th>\n",
              "      <th>BTM</th>\n",
              "      <td>6</td>\n",
              "    </tr>\n",
              "    <tr>\n",
              "      <th>...</th>\n",
              "      <th>...</th>\n",
              "      <td>...</td>\n",
              "    </tr>\n",
              "    <tr>\n",
              "      <th>Kamat Upahaar</th>\n",
              "      <th>New BEL Road</th>\n",
              "      <td>1</td>\n",
              "    </tr>\n",
              "    <tr>\n",
              "      <th rowspan=\"3\" valign=\"top\">Kamat Swaad</th>\n",
              "      <th>Koramangala 7th Block</th>\n",
              "      <td>1</td>\n",
              "    </tr>\n",
              "    <tr>\n",
              "      <th>Basavanagudi</th>\n",
              "      <td>1</td>\n",
              "    </tr>\n",
              "    <tr>\n",
              "      <th>Bannerghatta Road</th>\n",
              "      <td>1</td>\n",
              "    </tr>\n",
              "    <tr>\n",
              "      <th>sCoolMeal</th>\n",
              "      <th>Koramangala 7th Block</th>\n",
              "      <td>1</td>\n",
              "    </tr>\n",
              "  </tbody>\n",
              "</table>\n",
              "<p>31681 rows × 1 columns</p>\n",
              "</div>\n",
              "      <button class=\"colab-df-convert\" onclick=\"convertToInteractive('df-62a824fa-f128-4e1d-817b-b993b6144a9e')\"\n",
              "              title=\"Convert this dataframe to an interactive table.\"\n",
              "              style=\"display:none;\">\n",
              "        \n",
              "  <svg xmlns=\"http://www.w3.org/2000/svg\" height=\"24px\"viewBox=\"0 0 24 24\"\n",
              "       width=\"24px\">\n",
              "    <path d=\"M0 0h24v24H0V0z\" fill=\"none\"/>\n",
              "    <path d=\"M18.56 5.44l.94 2.06.94-2.06 2.06-.94-2.06-.94-.94-2.06-.94 2.06-2.06.94zm-11 1L8.5 8.5l.94-2.06 2.06-.94-2.06-.94L8.5 2.5l-.94 2.06-2.06.94zm10 10l.94 2.06.94-2.06 2.06-.94-2.06-.94-.94-2.06-.94 2.06-2.06.94z\"/><path d=\"M17.41 7.96l-1.37-1.37c-.4-.4-.92-.59-1.43-.59-.52 0-1.04.2-1.43.59L10.3 9.45l-7.72 7.72c-.78.78-.78 2.05 0 2.83L4 21.41c.39.39.9.59 1.41.59.51 0 1.02-.2 1.41-.59l7.78-7.78 2.81-2.81c.8-.78.8-2.07 0-2.86zM5.41 20L4 18.59l7.72-7.72 1.47 1.35L5.41 20z\"/>\n",
              "  </svg>\n",
              "      </button>\n",
              "      \n",
              "  <style>\n",
              "    .colab-df-container {\n",
              "      display:flex;\n",
              "      flex-wrap:wrap;\n",
              "      gap: 12px;\n",
              "    }\n",
              "\n",
              "    .colab-df-convert {\n",
              "      background-color: #E8F0FE;\n",
              "      border: none;\n",
              "      border-radius: 50%;\n",
              "      cursor: pointer;\n",
              "      display: none;\n",
              "      fill: #1967D2;\n",
              "      height: 32px;\n",
              "      padding: 0 0 0 0;\n",
              "      width: 32px;\n",
              "    }\n",
              "\n",
              "    .colab-df-convert:hover {\n",
              "      background-color: #E2EBFA;\n",
              "      box-shadow: 0px 1px 2px rgba(60, 64, 67, 0.3), 0px 1px 3px 1px rgba(60, 64, 67, 0.15);\n",
              "      fill: #174EA6;\n",
              "    }\n",
              "\n",
              "    [theme=dark] .colab-df-convert {\n",
              "      background-color: #3B4455;\n",
              "      fill: #D2E3FC;\n",
              "    }\n",
              "\n",
              "    [theme=dark] .colab-df-convert:hover {\n",
              "      background-color: #434B5C;\n",
              "      box-shadow: 0px 1px 3px 1px rgba(0, 0, 0, 0.15);\n",
              "      filter: drop-shadow(0px 1px 2px rgba(0, 0, 0, 0.3));\n",
              "      fill: #FFFFFF;\n",
              "    }\n",
              "  </style>\n",
              "\n",
              "      <script>\n",
              "        const buttonEl =\n",
              "          document.querySelector('#df-62a824fa-f128-4e1d-817b-b993b6144a9e button.colab-df-convert');\n",
              "        buttonEl.style.display =\n",
              "          google.colab.kernel.accessAllowed ? 'block' : 'none';\n",
              "\n",
              "        async function convertToInteractive(key) {\n",
              "          const element = document.querySelector('#df-62a824fa-f128-4e1d-817b-b993b6144a9e');\n",
              "          const dataTable =\n",
              "            await google.colab.kernel.invokeFunction('convertToInteractive',\n",
              "                                                     [key], {});\n",
              "          if (!dataTable) return;\n",
              "\n",
              "          const docLinkHtml = 'Like what you see? Visit the ' +\n",
              "            '<a target=\"_blank\" href=https://colab.research.google.com/notebooks/data_table.ipynb>data table notebook</a>'\n",
              "            + ' to learn more about interactive tables.';\n",
              "          element.innerHTML = '';\n",
              "          dataTable['output_type'] = 'display_data';\n",
              "          await google.colab.output.renderOutput(dataTable, element);\n",
              "          const docLink = document.createElement('div');\n",
              "          docLink.innerHTML = docLinkHtml;\n",
              "          element.appendChild(docLink);\n",
              "        }\n",
              "      </script>\n",
              "    </div>\n",
              "  </div>\n",
              "  "
            ]
          },
          "metadata": {},
          "execution_count": 36
        }
      ],
      "source": [
        "res_branch=df1.groupby(['name','listed_in(city)']).agg({'listed_in(city)':\"count\"})\n",
        "res_branch.columns=['city']\n",
        "res_branch.sort_values(by=\"city\", ascending =False)"
      ]
    },
    {
      "cell_type": "code",
      "execution_count": 37,
      "metadata": {
        "colab": {
          "base_uri": "https://localhost:8080/",
          "height": 297
        },
        "id": "8LkWR0mB0Bjo",
        "outputId": "eb5d314e-bba4-4b47-c1fd-d1dbbb7c8316"
      },
      "outputs": [
        {
          "output_type": "execute_result",
          "data": {
            "text/plain": [
              "<matplotlib.axes._subplots.AxesSubplot at 0x7f0b5aeaff70>"
            ]
          },
          "metadata": {},
          "execution_count": 37
        },
        {
          "output_type": "display_data",
          "data": {
            "text/plain": [
              "<Figure size 432x288 with 1 Axes>"
            ],
            "image/png": "[encoded data removed]"
          },
          "metadata": {
            "needs_background": "light"
          }
        }
      ],
      "source": [
        "sns.countplot(data=df1, x=\"online_order\")"
      ]
    },
    {
      "cell_type": "code",
      "execution_count": 38,
      "metadata": {
        "id": "TPyEJIv80DvY"
      },
      "outputs": [],
      "source": [
        "online_order=df1.loc[:,('name', 'online_order' )].drop_duplicates(keep=\"first\")"
      ]
    },
    {
      "cell_type": "code",
      "execution_count": 39,
      "metadata": {
        "colab": {
          "base_uri": "https://localhost:8080/",
          "height": 297
        },
        "id": "5L5iVbNO0HpY",
        "outputId": "942d9563-b03f-4074-ea8c-ce249f6599b9"
      },
      "outputs": [
        {
          "output_type": "execute_result",
          "data": {
            "text/plain": [
              "<matplotlib.axes._subplots.AxesSubplot at 0x7f0b5ae0bf10>"
            ]
          },
          "metadata": {},
          "execution_count": 39
        },
        {
          "output_type": "display_data",
          "data": {
            "text/plain": [
              "<Figure size 432x288 with 1 Axes>"
            ],
            "image/png": "[encoded data removed]"
          },
          "metadata": {
            "needs_background": "light"
          }
        }
      ],
      "source": [
        "sns.countplot(data=online_order, x=\"online_order\")"
      ]
    },
    {
      "cell_type": "code",
      "execution_count": 40,
      "metadata": {
        "id": "QJ7Dt7G90JNw"
      },
      "outputs": [],
      "source": [
        "#@title Droping columns\n"
      ]
    },
    {
      "cell_type": "code",
      "execution_count": 41,
      "metadata": {
        "id": "yCQ9SQ4y0XpR"
      },
      "outputs": [],
      "source": [
        "cols_to_drop ={\"drop_columns\":[\"url\", \"address\", \"name\", \"phone\", \"location\", \"dish_liked\",\"rest_type\",\"menu_item\"]}\n",
        "cols_to_keep={\"columns\":[\"online_order\", \"book_table\", \"rate\", \"votes\" ,\"listed_in(type)\", \"cuisines\",\"cost\", \"listed_in(city)\",\"reviews_list\"]}\n",
        "numerical_cols={\"numerical_cols\":[\"votes\", \"cost\"]}"
      ]
    },
    {
      "cell_type": "code",
      "execution_count": 42,
      "metadata": {
        "id": "N6UN8dQ00cpI"
      },
      "outputs": [],
      "source": [
        "#Writing columns to keep and drop to yaml file\n",
        "import os\n",
        "def write_yaml_file(file_path: str, content: object, replace: bool = False) -> None:\n",
        "    try:\n",
        "        if replace:\n",
        "            if os.path.exists(file_path):\n",
        "                os.remove(file_path)\n",
        "\n",
        "        os.makedirs(os.path.dirname(file_path), exist_ok=True)\n",
        "\n",
        "        with open(file_path, \"w\") as file:\n",
        "            yaml.dump(content, file)\n",
        "\n",
        "    except Exception as e:\n",
        "        raise e"
      ]
    },
    {
      "cell_type": "code",
      "execution_count": 43,
      "metadata": {
        "id": "Rn-OUZtI0mig"
      },
      "outputs": [],
      "source": [
        "import os\n",
        "def append_yaml_file(file_path: str, content: object, replace: bool = False) -> None:\n",
        "    try:\n",
        "        if replace:\n",
        "            if os.path.exists(file_path):\n",
        "                os.remove(file_path)\n",
        "\n",
        "        os.makedirs(os.path.dirname(file_path), exist_ok=True)\n",
        "\n",
        "        with open(file_path, \"a\") as file:\n",
        "            yaml.dump(content, file)\n",
        "\n",
        "    except Exception as e:\n",
        "        raise e"
      ]
    },
    {
      "cell_type": "code",
      "execution_count": 44,
      "metadata": {
        "id": "A20ARx4o0nBo"
      },
      "outputs": [],
      "source": [
        "import yaml\n",
        "#write_yaml_file(file_path=\"schema.yaml\", content=cols_to_keep)\n",
        "# append_yaml_file(file_path=\"work/schema.yaml\", content=cols_to_drop)\n",
        "# append_yaml_file(file_path=\"work/schema.yaml\", content=numerical_cols)"
      ]
    },
    {
      "cell_type": "code",
      "execution_count": 45,
      "metadata": {
        "colab": {
          "base_uri": "https://localhost:8080/",
          "height": 554
        },
        "id": "Nzj-3eMM0sII",
        "outputId": "ccd02d79-6985-45d0-cfde-d1f54056e16a"
      },
      "outputs": [
        {
          "output_type": "execute_result",
          "data": {
            "text/plain": [
              "      online_order book_table  rate  votes  \\\n",
              "0              Yes        Yes   4.1    775   \n",
              "1              Yes         No   4.1    787   \n",
              "2              Yes         No   3.8    918   \n",
              "3               No         No   3.7     88   \n",
              "4               No         No   3.8    166   \n",
              "...            ...        ...   ...    ...   \n",
              "51712           No         No   3.6     27   \n",
              "51713           No         No   0.0      0   \n",
              "51714           No         No   0.0      0   \n",
              "51715           No        Yes   4.3    236   \n",
              "51716           No         No   3.4     13   \n",
              "\n",
              "                                     cuisines    cost  \\\n",
              "0              North Indian, Mughlai, Chinese   800.0   \n",
              "1                 Chinese, North Indian, Thai   800.0   \n",
              "2                      Cafe, Mexican, Italian   800.0   \n",
              "3                  South Indian, North Indian   300.0   \n",
              "4                    North Indian, Rajasthani   600.0   \n",
              "...                                       ...     ...   \n",
              "51712                             Continental  1500.0   \n",
              "51713                             Finger Food   600.0   \n",
              "51714                             Finger Food  2000.0   \n",
              "51715                             Finger Food  2500.0   \n",
              "51716  Finger Food, North Indian, Continental  1500.0   \n",
              "\n",
              "                                            reviews_list listed_in(type)  \\\n",
              "0      [('Rated 4.0', 'RATED\\n  A beautiful place to ...          Buffet   \n",
              "1      [('Rated 4.0', 'RATED\\n  Had been here for din...          Buffet   \n",
              "2      [('Rated 3.0', \"RATED\\n  Ambience is not that ...          Buffet   \n",
              "3      [('Rated 4.0', \"RATED\\n  Great food and proper...          Buffet   \n",
              "4      [('Rated 4.0', 'RATED\\n  Very good restaurant ...          Buffet   \n",
              "...                                                  ...             ...   \n",
              "51712  [('Rated 5.0', \"RATED\\n  Food and service are ...   Pubs and bars   \n",
              "51713                                                 []   Pubs and bars   \n",
              "51714                                                 []   Pubs and bars   \n",
              "51715  [('Rated 4.0', 'RATED\\n  Nice and friendly pla...   Pubs and bars   \n",
              "51716  [('Rated 5.0', 'RATED\\n  Great ambience , look...   Pubs and bars   \n",
              "\n",
              "      listed_in(city)  \n",
              "0        Banashankari  \n",
              "1        Banashankari  \n",
              "2        Banashankari  \n",
              "3        Banashankari  \n",
              "4        Banashankari  \n",
              "...               ...  \n",
              "51712      Whitefield  \n",
              "51713      Whitefield  \n",
              "51714      Whitefield  \n",
              "51715      Whitefield  \n",
              "51716      Whitefield  \n",
              "\n",
              "[51717 rows x 9 columns]"
            ],
            "text/html": [
              "\n",
              "  <div id=\"df-e60c6a99-0f56-4592-9fea-abdde1cc6fc6\">\n",
              "    <div class=\"colab-df-container\">\n",
              "      <div>\n",
              "<style scoped>\n",
              "    .dataframe tbody tr th:only-of-type {\n",
              "        vertical-align: middle;\n",
              "    }\n",
              "\n",
              "    .dataframe tbody tr th {\n",
              "        vertical-align: top;\n",
              "    }\n",
              "\n",
              "    .dataframe thead th {\n",
              "        text-align: right;\n",
              "    }\n",
              "</style>\n",
              "<table border=\"1\" class=\"dataframe\">\n",
              "  <thead>\n",
              "    <tr style=\"text-align: right;\">\n",
              "      <th></th>\n",
              "      <th>online_order</th>\n",
              "      <th>book_table</th>\n",
              "      <th>rate</th>\n",
              "      <th>votes</th>\n",
              "      <th>cuisines</th>\n",
              "      <th>cost</th>\n",
              "      <th>reviews_list</th>\n",
              "      <th>listed_in(type)</th>\n",
              "      <th>listed_in(city)</th>\n",
              "    </tr>\n",
              "  </thead>\n",
              "  <tbody>\n",
              "    <tr>\n",
              "      <th>0</th>\n",
              "      <td>Yes</td>\n",
              "      <td>Yes</td>\n",
              "      <td>4.1</td>\n",
              "      <td>775</td>\n",
              "      <td>North Indian, Mughlai, Chinese</td>\n",
              "      <td>800.0</td>\n",
              "      <td>[('Rated 4.0', 'RATED\\n  A beautiful place to ...</td>\n",
              "      <td>Buffet</td>\n",
              "      <td>Banashankari</td>\n",
              "    </tr>\n",
              "    <tr>\n",
              "      <th>1</th>\n",
              "      <td>Yes</td>\n",
              "      <td>No</td>\n",
              "      <td>4.1</td>\n",
              "      <td>787</td>\n",
              "      <td>Chinese, North Indian, Thai</td>\n",
              "      <td>800.0</td>\n",
              "      <td>[('Rated 4.0', 'RATED\\n  Had been here for din...</td>\n",
              "      <td>Buffet</td>\n",
              "      <td>Banashankari</td>\n",
              "    </tr>\n",
              "    <tr>\n",
              "      <th>2</th>\n",
              "      <td>Yes</td>\n",
              "      <td>No</td>\n",
              "      <td>3.8</td>\n",
              "      <td>918</td>\n",
              "      <td>Cafe, Mexican, Italian</td>\n",
              "      <td>800.0</td>\n",
              "      <td>[('Rated 3.0', \"RATED\\n  Ambience is not that ...</td>\n",
              "      <td>Buffet</td>\n",
              "      <td>Banashankari</td>\n",
              "    </tr>\n",
              "    <tr>\n",
              "      <th>3</th>\n",
              "      <td>No</td>\n",
              "      <td>No</td>\n",
              "      <td>3.7</td>\n",
              "      <td>88</td>\n",
              "      <td>South Indian, North Indian</td>\n",
              "      <td>300.0</td>\n",
              "      <td>[('Rated 4.0', \"RATED\\n  Great food and proper...</td>\n",
              "      <td>Buffet</td>\n",
              "      <td>Banashankari</td>\n",
              "    </tr>\n",
              "    <tr>\n",
              "      <th>4</th>\n",
              "      <td>No</td>\n",
              "      <td>No</td>\n",
              "      <td>3.8</td>\n",
              "      <td>166</td>\n",
              "      <td>North Indian, Rajasthani</td>\n",
              "      <td>600.0</td>\n",
              "      <td>[('Rated 4.0', 'RATED\\n  Very good restaurant ...</td>\n",
              "      <td>Buffet</td>\n",
              "      <td>Banashankari</td>\n",
              "    </tr>\n",
              "    <tr>\n",
              "      <th>...</th>\n",
              "      <td>...</td>\n",
              "      <td>...</td>\n",
              "      <td>...</td>\n",
              "      <td>...</td>\n",
              "      <td>...</td>\n",
              "      <td>...</td>\n",
              "      <td>...</td>\n",
              "      <td>...</td>\n",
              "      <td>...</td>\n",
              "    </tr>\n",
              "    <tr>\n",
              "      <th>51712</th>\n",
              "      <td>No</td>\n",
              "      <td>No</td>\n",
              "      <td>3.6</td>\n",
              "      <td>27</td>\n",
              "      <td>Continental</td>\n",
              "      <td>1500.0</td>\n",
              "      <td>[('Rated 5.0', \"RATED\\n  Food and service are ...</td>\n",
              "      <td>Pubs and bars</td>\n",
              "      <td>Whitefield</td>\n",
              "    </tr>\n",
              "    <tr>\n",
              "      <th>51713</th>\n",
              "      <td>No</td>\n",
              "      <td>No</td>\n",
              "      <td>0.0</td>\n",
              "      <td>0</td>\n",
              "      <td>Finger Food</td>\n",
              "      <td>600.0</td>\n",
              "      <td>[]</td>\n",
              "      <td>Pubs and bars</td>\n",
              "      <td>Whitefield</td>\n",
              "    </tr>\n",
              "    <tr>\n",
              "      <th>51714</th>\n",
              "      <td>No</td>\n",
              "      <td>No</td>\n",
              "      <td>0.0</td>\n",
              "      <td>0</td>\n",
              "      <td>Finger Food</td>\n",
              "      <td>2000.0</td>\n",
              "      <td>[]</td>\n",
              "      <td>Pubs and bars</td>\n",
              "      <td>Whitefield</td>\n",
              "    </tr>\n",
              "    <tr>\n",
              "      <th>51715</th>\n",
              "      <td>No</td>\n",
              "      <td>Yes</td>\n",
              "      <td>4.3</td>\n",
              "      <td>236</td>\n",
              "      <td>Finger Food</td>\n",
              "      <td>2500.0</td>\n",
              "      <td>[('Rated 4.0', 'RATED\\n  Nice and friendly pla...</td>\n",
              "      <td>Pubs and bars</td>\n",
              "      <td>Whitefield</td>\n",
              "    </tr>\n",
              "    <tr>\n",
              "      <th>51716</th>\n",
              "      <td>No</td>\n",
              "      <td>No</td>\n",
              "      <td>3.4</td>\n",
              "      <td>13</td>\n",
              "      <td>Finger Food, North Indian, Continental</td>\n",
              "      <td>1500.0</td>\n",
              "      <td>[('Rated 5.0', 'RATED\\n  Great ambience , look...</td>\n",
              "      <td>Pubs and bars</td>\n",
              "      <td>Whitefield</td>\n",
              "    </tr>\n",
              "  </tbody>\n",
              "</table>\n",
              "<p>51717 rows × 9 columns</p>\n",
              "</div>\n",
              "      <button class=\"colab-df-convert\" onclick=\"convertToInteractive('df-e60c6a99-0f56-4592-9fea-abdde1cc6fc6')\"\n",
              "              title=\"Convert this dataframe to an interactive table.\"\n",
              "              style=\"display:none;\">\n",
              "        \n",
              "  <svg xmlns=\"http://www.w3.org/2000/svg\" height=\"24px\"viewBox=\"0 0 24 24\"\n",
              "       width=\"24px\">\n",
              "    <path d=\"M0 0h24v24H0V0z\" fill=\"none\"/>\n",
              "    <path d=\"M18.56 5.44l.94 2.06.94-2.06 2.06-.94-2.06-.94-.94-2.06-.94 2.06-2.06.94zm-11 1L8.5 8.5l.94-2.06 2.06-.94-2.06-.94L8.5 2.5l-.94 2.06-2.06.94zm10 10l.94 2.06.94-2.06 2.06-.94-2.06-.94-.94-2.06-.94 2.06-2.06.94z\"/><path d=\"M17.41 7.96l-1.37-1.37c-.4-.4-.92-.59-1.43-.59-.52 0-1.04.2-1.43.59L10.3 9.45l-7.72 7.72c-.78.78-.78 2.05 0 2.83L4 21.41c.39.39.9.59 1.41.59.51 0 1.02-.2 1.41-.59l7.78-7.78 2.81-2.81c.8-.78.8-2.07 0-2.86zM5.41 20L4 18.59l7.72-7.72 1.47 1.35L5.41 20z\"/>\n",
              "  </svg>\n",
              "      </button>\n",
              "      \n",
              "  <style>\n",
              "    .colab-df-container {\n",
              "      display:flex;\n",
              "      flex-wrap:wrap;\n",
              "      gap: 12px;\n",
              "    }\n",
              "\n",
              "    .colab-df-convert {\n",
              "      background-color: #E8F0FE;\n",
              "      border: none;\n",
              "      border-radius: 50%;\n",
              "      cursor: pointer;\n",
              "      display: none;\n",
              "      fill: #1967D2;\n",
              "      height: 32px;\n",
              "      padding: 0 0 0 0;\n",
              "      width: 32px;\n",
              "    }\n",
              "\n",
              "    .colab-df-convert:hover {\n",
              "      background-color: #E2EBFA;\n",
              "      box-shadow: 0px 1px 2px rgba(60, 64, 67, 0.3), 0px 1px 3px 1px rgba(60, 64, 67, 0.15);\n",
              "      fill: #174EA6;\n",
              "    }\n",
              "\n",
              "    [theme=dark] .colab-df-convert {\n",
              "      background-color: #3B4455;\n",
              "      fill: #D2E3FC;\n",
              "    }\n",
              "\n",
              "    [theme=dark] .colab-df-convert:hover {\n",
              "      background-color: #434B5C;\n",
              "      box-shadow: 0px 1px 3px 1px rgba(0, 0, 0, 0.15);\n",
              "      filter: drop-shadow(0px 1px 2px rgba(0, 0, 0, 0.3));\n",
              "      fill: #FFFFFF;\n",
              "    }\n",
              "  </style>\n",
              "\n",
              "      <script>\n",
              "        const buttonEl =\n",
              "          document.querySelector('#df-e60c6a99-0f56-4592-9fea-abdde1cc6fc6 button.colab-df-convert');\n",
              "        buttonEl.style.display =\n",
              "          google.colab.kernel.accessAllowed ? 'block' : 'none';\n",
              "\n",
              "        async function convertToInteractive(key) {\n",
              "          const element = document.querySelector('#df-e60c6a99-0f56-4592-9fea-abdde1cc6fc6');\n",
              "          const dataTable =\n",
              "            await google.colab.kernel.invokeFunction('convertToInteractive',\n",
              "                                                     [key], {});\n",
              "          if (!dataTable) return;\n",
              "\n",
              "          const docLinkHtml = 'Like what you see? Visit the ' +\n",
              "            '<a target=\"_blank\" href=https://colab.research.google.com/notebooks/data_table.ipynb>data table notebook</a>'\n",
              "            + ' to learn more about interactive tables.';\n",
              "          element.innerHTML = '';\n",
              "          dataTable['output_type'] = 'display_data';\n",
              "          await google.colab.output.renderOutput(dataTable, element);\n",
              "          const docLink = document.createElement('div');\n",
              "          docLink.innerHTML = docLinkHtml;\n",
              "          element.appendChild(docLink);\n",
              "        }\n",
              "      </script>\n",
              "    </div>\n",
              "  </div>\n",
              "  "
            ]
          },
          "metadata": {},
          "execution_count": 45
        }
      ],
      "source": [
        "cols_to_drop=[\"url\", \"address\", \"name\", \"phone\", \"location\",\"rest_type\",\"dish_liked\"]\n",
        "df=zomato_df.drop(columns=cols_to_drop)\n",
        "df"
      ]
    },
    {
      "cell_type": "code",
      "execution_count": 46,
      "metadata": {
        "id": "VfF26iqe0zzQ"
      },
      "outputs": [],
      "source": [
        "import statistics as st\n",
        "import numpy as np"
      ]
    },
    {
      "cell_type": "code",
      "execution_count": 47,
      "metadata": {
        "id": "i90ZzYhL02C4"
      },
      "outputs": [],
      "source": [
        "numeric_col=['rate', 'votes', 'cost']\n",
        "df[\"cost\"] = df[\"cost\"].replace(np.nan, 0)"
      ]
    },
    {
      "cell_type": "code",
      "execution_count": 48,
      "metadata": {
        "id": "NcaQU1ll04qR"
      },
      "outputs": [],
      "source": [
        "# Detecting standard deviation\n",
        "from pandas import DataFrame\n",
        "def detect_zero_std_dev(df: DataFrame)-> bool:\n",
        "  \n",
        "        status = False\n",
        "        report={}\n",
        "\n",
        "        for col in numeric_col:\n",
        "            if df.loc[:,[col]].values.std() != 0:\n",
        "                status = True\n",
        "                report.update({col:{\n",
        "                    \"standard_deviation\":df.loc[:,[col]].values.std()\n",
        "        }})\n",
        "\n",
        "        return (report)"
      ]
    },
    {
      "cell_type": "code",
      "execution_count": 49,
      "metadata": {
        "id": "o0PFYmZC1BX5"
      },
      "outputs": [],
      "source": [
        "\n",
        "report=detect_zero_std_dev(df)\n",
        "#write_yaml_file(file_path=\"work/stdev_report.yaml\", content=report)"
      ]
    },
    {
      "cell_type": "code",
      "execution_count": 50,
      "metadata": {
        "colab": {
          "base_uri": "https://localhost:8080/"
        },
        "id": "iLpLfzqo1Ffw",
        "outputId": "83ca248e-3b50-4c72-833b-7363fe3ef923"
      },
      "outputs": [
        {
          "output_type": "execute_result",
          "data": {
            "text/plain": [
              "0.0    0.194365\n",
              "3.9    0.076803\n",
              "3.8    0.074888\n",
              "3.7    0.073883\n",
              "3.6    0.064118\n",
              "4.0    0.061546\n",
              "4.1    0.057003\n",
              "3.5    0.053831\n",
              "3.4    0.047876\n",
              "3.3    0.044666\n",
              "4.2    0.042230\n",
              "3.2    0.036216\n",
              "4.3    0.032736\n",
              "3.1    0.030183\n",
              "4.4    0.022178\n",
              "3.0    0.019781\n",
              "2.9    0.015507\n",
              "4.5    0.012684\n",
              "2.8    0.011602\n",
              "2.7    0.005936\n",
              "4.6    0.005801\n",
              "2.6    0.005027\n",
              "4.7    0.003229\n",
              "2.5    0.001953\n",
              "2.4    0.001354\n",
              "4.8    0.001276\n",
              "4.9    0.001063\n",
              "2.3    0.000986\n",
              "2.2    0.000503\n",
              "2.1    0.000464\n",
              "2.0    0.000213\n",
              "1.8    0.000097\n",
              "Name: rate, dtype: float64"
            ]
          },
          "metadata": {},
          "execution_count": 50
        }
      ],
      "source": [
        "df[\"rate\"].value_counts()\n",
        "df[\"rate\"].value_counts(normalize=True)"
      ]
    },
    {
      "cell_type": "code",
      "execution_count": 51,
      "metadata": {
        "colab": {
          "base_uri": "https://localhost:8080/"
        },
        "id": "aciwhKKU1IAQ",
        "outputId": "2848d8e7-e01e-462d-aecc-750fa28a25ca"
      },
      "outputs": [
        {
          "output_type": "execute_result",
          "data": {
            "text/plain": [
              "0        [4.0, 4.0, 2.0, 4.0, 5.0, 5.0, 4.0, 4.0, 5.0, ...\n",
              "1        [4.0, 3.0, 3.0, 4.0, 4.0, 5.0, 4.0, 2.0, 4.0, ...\n",
              "2        [3.0, 3.0, 4.0, 3.0, 3.0, 1.0, 3.0, 1.0, 4.0, ...\n",
              "3        [4.0, 2.0, 4.0, 2.0, 4.0, 5.0, 4.0, 5.0, 3.5, ...\n",
              "4                                               [4.0, 4.0]\n",
              "                               ...                        \n",
              "51712    [5.0, 3.5, 2.5, 3.5, 5.0, 5.0, 4.5, 5.0, 5.0, ...\n",
              "51713                                                   []\n",
              "51714                                                   []\n",
              "51715                       [4.0, 1.0, 5.0, 5.0, 5.0, 4.0]\n",
              "51716                                           [5.0, 5.0]\n",
              "Name: str_reviews_list, Length: 51717, dtype: object"
            ]
          },
          "metadata": {},
          "execution_count": 51
        }
      ],
      "source": [
        "#Extracting the datas from reviews_list col and Transforming the review_list col to ratings \n",
        "import re\n",
        "df[\"reviews_list\"]=df[\"reviews_list\"].replace('[]',0.0)\n",
        "df[\"str_reviews_list\"]=df[\"reviews_list\"].apply(lambda x : re.findall(r'Rated *\\d+\\.\\d+', str(x))).apply(lambda x : re.findall(r'\\d+\\.\\d+', str(x)))\n",
        "df[\"str_reviews_list\"]"
      ]
    },
    {
      "cell_type": "code",
      "execution_count": 52,
      "metadata": {
        "colab": {
          "base_uri": "https://localhost:8080/"
        },
        "id": "IFz7CrMT1J7A",
        "outputId": "b0497ac7-7b68-40ca-ed63-560c64a8db19"
      },
      "outputs": [
        {
          "output_type": "execute_result",
          "data": {
            "text/plain": [
              "0        4.1\n",
              "1        3.6\n",
              "2        3.2\n",
              "3        3.7\n",
              "4        4.0\n",
              "        ... \n",
              "51712    4.1\n",
              "51713    NaN\n",
              "51714    NaN\n",
              "51715    4.0\n",
              "51716    5.0\n",
              "Name: mean_reviews_list, Length: 51717, dtype: float64"
            ]
          },
          "metadata": {},
          "execution_count": 52
        }
      ],
      "source": [
        "#Extracting relavat ratings and Averaging\n",
        "df[\"mean_reviews_list\"]=df[\"str_reviews_list\"].apply(lambda x : re.findall(r'\\d+\\.\\d+', str(x))).apply(lambda x: list(map(float,x)))\n",
        "df[\"mean_reviews_list\"]=df[\"mean_reviews_list\"].apply(lambda x : round(np.mean(x),1))\n",
        "df[\"mean_reviews_list\"]"
      ]
    },
    {
      "cell_type": "code",
      "execution_count": 53,
      "metadata": {
        "id": "EPj2SrKh1LxI"
      },
      "outputs": [],
      "source": [
        "df[\"mean_reviews_list\"].value_counts(dropna=False)\n",
        "df[\"mean_reviews_list\"].replace(np.nan,0, inplace=True)"
      ]
    },
    {
      "cell_type": "code",
      "execution_count": 54,
      "metadata": {
        "colab": {
          "base_uri": "https://localhost:8080/"
        },
        "id": "cvBK8uIJ1Npw",
        "outputId": "535091a0-61ca-4cbc-86ce-bb91cbaff362"
      },
      "outputs": [
        {
          "output_type": "execute_result",
          "data": {
            "text/plain": [
              "0.0    7595\n",
              "4.0    6435\n",
              "3.0    3893\n",
              "5.0    3419\n",
              "3.5    2629\n",
              "3.8    2100\n",
              "3.7    1933\n",
              "4.2    1910\n",
              "4.5    1749\n",
              "3.9    1551\n",
              "4.3    1455\n",
              "4.1    1420\n",
              "3.3    1350\n",
              "1.0    1329\n",
              "2.0    1298\n",
              "3.2    1294\n",
              "3.6    1230\n",
              "3.4    1103\n",
              "4.4     930\n",
              "2.5     832\n",
              "2.8     733\n",
              "3.1     638\n",
              "4.7     629\n",
              "4.8     621\n",
              "2.7     577\n",
              "4.6     489\n",
              "2.9     474\n",
              "2.3     330\n",
              "2.6     310\n",
              "4.9     250\n",
              "2.4     238\n",
              "2.2     233\n",
              "1.5     180\n",
              "1.8     125\n",
              "2.1     124\n",
              "1.7     100\n",
              "1.9      69\n",
              "1.3      52\n",
              "1.2      37\n",
              "1.4      30\n",
              "1.6      19\n",
              "1.1       4\n",
              "Name: mean_reviews_list, dtype: int64"
            ]
          },
          "metadata": {},
          "execution_count": 54
        }
      ],
      "source": [
        "df[\"mean_reviews_list\"].value_counts(dropna=False)"
      ]
    },
    {
      "cell_type": "code",
      "execution_count": 55,
      "metadata": {
        "colab": {
          "base_uri": "https://localhost:8080/"
        },
        "id": "JIwZipp21PTw",
        "outputId": "bbeb2ca3-f028-42ea-9fe5-d8e29607ce57"
      },
      "outputs": [
        {
          "output_type": "execute_result",
          "data": {
            "text/plain": [
              "0.0    10052\n",
              "3.9     3972\n",
              "3.8     3873\n",
              "3.7     3821\n",
              "3.6     3316\n",
              "4.0     3183\n",
              "4.1     2948\n",
              "3.5     2784\n",
              "3.4     2476\n",
              "3.3     2310\n",
              "4.2     2184\n",
              "3.2     1873\n",
              "4.3     1693\n",
              "3.1     1561\n",
              "4.4     1147\n",
              "3.0     1023\n",
              "2.9      802\n",
              "4.5      656\n",
              "2.8      600\n",
              "2.7      307\n",
              "4.6      300\n",
              "2.6      260\n",
              "4.7      167\n",
              "2.5      101\n",
              "2.4       70\n",
              "4.8       66\n",
              "4.9       55\n",
              "2.3       51\n",
              "2.2       26\n",
              "2.1       24\n",
              "2.0       11\n",
              "1.8        5\n",
              "Name: rate, dtype: int64"
            ]
          },
          "metadata": {},
          "execution_count": 55
        }
      ],
      "source": [
        "df['rate'].value_counts(dropna=False)"
      ]
    },
    {
      "cell_type": "code",
      "execution_count": 56,
      "metadata": {
        "colab": {
          "base_uri": "https://localhost:8080/"
        },
        "id": "8uyEs16a1SbA",
        "outputId": "b0348bc4-efd7-4ad1-ab45-59cfbdc7a63f"
      },
      "outputs": [
        {
          "output_type": "execute_result",
          "data": {
            "text/plain": [
              "0.0    6474\n",
              "4.0    5075\n",
              "4.2    4694\n",
              "3.8    4681\n",
              "3.6    3343\n",
              "3.4    3022\n",
              "4.4    2334\n",
              "3.2    2115\n",
              "3.9    1951\n",
              "4.1    1614\n",
              "3.0    1490\n",
              "3.7    1325\n",
              "2.5    1254\n",
              "2.8    1104\n",
              "4.3     977\n",
              "2.0     925\n",
              "3.5     924\n",
              "3.3     875\n",
              "3.1     718\n",
              "2.6     691\n",
              "1.6     682\n",
              "2.4     671\n",
              "2.2     558\n",
              "2.9     558\n",
              "0.5     483\n",
              "1.8     468\n",
              "1.5     429\n",
              "4.6     427\n",
              "4.5     367\n",
              "2.7     324\n",
              "1.7     195\n",
              "2.1     180\n",
              "2.3     170\n",
              "1.0     144\n",
              "1.2     135\n",
              "1.9     131\n",
              "1.4      59\n",
              "4.8      40\n",
              "4.7      37\n",
              "0.8      31\n",
              "0.9      13\n",
              "0.6      12\n",
              "1.1       8\n",
              "0.7       7\n",
              "1.3       2\n",
              "Name: rate, dtype: int64"
            ]
          },
          "metadata": {},
          "execution_count": 56
        }
      ],
      "source": [
        "#Averaging the mean_review_list and rate column to get final rate column\n",
        "df[\"rate\"] =round((df[\"rate\"] + df[\"mean_reviews_list\"])/2,1)\n",
        "df[\"rate\"].value_counts(sort =True)"
      ]
    },
    {
      "cell_type": "code",
      "execution_count": 57,
      "metadata": {
        "id": "JyZg1voe1UgY"
      },
      "outputs": [],
      "source": [
        "#Converting ratings \n",
        "def ratings(value):\n",
        "    if (value >= 0.0 and value <= 0.5): \n",
        "        return 0.0\n",
        "    elif (value > 0.5 and value <= 1.4): \n",
        "        return 1.0\n",
        "    elif (value > 1.4 and value <= 2.4): \n",
        "        return 2.0\n",
        "    elif (value > 2.4 and value <= 3.4):\n",
        "        return 3.0\n",
        "    elif (value > 3.4 and value <= 4.4):\n",
        "        return 4.0\n",
        "    else:\n",
        "        return 5.0"
      ]
    },
    {
      "cell_type": "code",
      "execution_count": 58,
      "metadata": {
        "colab": {
          "base_uri": "https://localhost:8080/"
        },
        "id": "pwnWGEnD1W5g",
        "outputId": "c32575a6-8be6-44ee-984d-071f6c6fa71d"
      },
      "outputs": [
        {
          "output_type": "execute_result",
          "data": {
            "text/plain": [
              "4.0    26918\n",
              "3.0    12151\n",
              "0.0     6957\n",
              "2.0     4409\n",
              "5.0      871\n",
              "1.0      411\n",
              "Name: rate, dtype: int64"
            ]
          },
          "metadata": {},
          "execution_count": 58
        }
      ],
      "source": [
        "df[\"rate\"]=df[\"rate\"].apply(ratings)\n",
        "df[\"rate\"].value_counts()"
      ]
    },
    {
      "cell_type": "code",
      "execution_count": 59,
      "metadata": {
        "colab": {
          "base_uri": "https://localhost:8080/",
          "height": 536
        },
        "id": "bEjJAaWj1YlQ",
        "outputId": "1a8ee7f3-d066-48b9-c86f-af8c82073af7"
      },
      "outputs": [
        {
          "output_type": "execute_result",
          "data": {
            "text/plain": [
              "<matplotlib.axes._subplots.AxesSubplot at 0x7f0b5aea4af0>"
            ]
          },
          "metadata": {},
          "execution_count": 59
        },
        {
          "output_type": "display_data",
          "data": {
            "text/plain": [
              "<Figure size 1800x720 with 1 Axes>"
            ],
            "image/png": "[encoded data removed]"
          },
          "metadata": {
            "needs_background": "light"
          }
        }
      ],
      "source": [
        "plt.figure(figsize=(25,10))\n",
        "sns.countplot(data=df,x=df[\"rate\"].sort_values(ascending = True))"
      ]
    },
    {
      "cell_type": "code",
      "execution_count": 60,
      "metadata": {
        "id": "e3R8a2kP1b54"
      },
      "outputs": [],
      "source": [
        "df.drop(columns={\"reviews_list\", \"str_reviews_list\",\"mean_reviews_list\"}, inplace=True)"
      ]
    },
    {
      "cell_type": "code",
      "execution_count": 61,
      "metadata": {
        "colab": {
          "base_uri": "https://localhost:8080/",
          "height": 201
        },
        "id": "7VkVR-5p1fBA",
        "outputId": "88a04c09-42f1-4582-844c-dbacd5d1ec23"
      },
      "outputs": [
        {
          "output_type": "display_data",
          "data": {
            "text/plain": [
              "<Figure size 720x7200 with 3 Axes>"
            ],
            "image/png": "[encoded data removed]"
          },
          "metadata": {
            "needs_background": "light"
          }
        }
      ],
      "source": [
        "numeric_features = [feature for feature in df.columns if df[feature].dtype != 'O']\n",
        "\n",
        "plt.figure(figsize=(10, 100))\n",
        "for i, col in enumerate(numeric_features):\n",
        "    plt.subplot(40, 3, i+1)\n",
        "    sns.distplot(x=df[col], color='blue')\n",
        "    plt.xlabel(col, weight='bold')\n",
        "    plt.tight_layout()"
      ]
    },
    {
      "cell_type": "code",
      "execution_count": 66,
      "metadata": {
        "id": "A01hFfYj1g8B",
        "outputId": "fcbd4a2c-edfd-475c-f2d1-dab7db729433",
        "colab": {
          "base_uri": "https://localhost:8080/"
        }
      },
      "outputs": [
        {
          "output_type": "execute_result",
          "data": {
            "text/plain": [
              "346"
            ]
          },
          "metadata": {},
          "execution_count": 66
        }
      ],
      "source": [
        "df['cost'].replace(0,np.nan, inplace=True)\n",
        "df['cost'].isnull().sum()"
      ]
    },
    {
      "cell_type": "code",
      "source": [
        "new_df=df[df['rate']>0].reset_index().drop(columns='index')\n",
        "new_df.head(2)"
      ],
      "metadata": {
        "id": "BZZ2NO98RDbA",
        "outputId": "d9f05e86-87a1-4482-a278-17949fe6f541",
        "colab": {
          "base_uri": "https://localhost:8080/",
          "height": 112
        }
      },
      "execution_count": 67,
      "outputs": [
        {
          "output_type": "execute_result",
          "data": {
            "text/plain": [
              "  online_order book_table  rate  votes                        cuisines   cost  \\\n",
              "0          Yes        Yes   4.0    775  North Indian, Mughlai, Chinese  800.0   \n",
              "1          Yes         No   4.0    787     Chinese, North Indian, Thai  800.0   \n",
              "\n",
              "  listed_in(type) listed_in(city)  \n",
              "0          Buffet    Banashankari  \n",
              "1          Buffet    Banashankari  "
            ],
            "text/html": [
              "\n",
              "  <div id=\"df-c7bb464e-41af-4934-ae70-15054ae8c275\">\n",
              "    <div class=\"colab-df-container\">\n",
              "      <div>\n",
              "<style scoped>\n",
              "    .dataframe tbody tr th:only-of-type {\n",
              "        vertical-align: middle;\n",
              "    }\n",
              "\n",
              "    .dataframe tbody tr th {\n",
              "        vertical-align: top;\n",
              "    }\n",
              "\n",
              "    .dataframe thead th {\n",
              "        text-align: right;\n",
              "    }\n",
              "</style>\n",
              "<table border=\"1\" class=\"dataframe\">\n",
              "  <thead>\n",
              "    <tr style=\"text-align: right;\">\n",
              "      <th></th>\n",
              "      <th>online_order</th>\n",
              "      <th>book_table</th>\n",
              "      <th>rate</th>\n",
              "      <th>votes</th>\n",
              "      <th>cuisines</th>\n",
              "      <th>cost</th>\n",
              "      <th>listed_in(type)</th>\n",
              "      <th>listed_in(city)</th>\n",
              "    </tr>\n",
              "  </thead>\n",
              "  <tbody>\n",
              "    <tr>\n",
              "      <th>0</th>\n",
              "      <td>Yes</td>\n",
              "      <td>Yes</td>\n",
              "      <td>4.0</td>\n",
              "      <td>775</td>\n",
              "      <td>North Indian, Mughlai, Chinese</td>\n",
              "      <td>800.0</td>\n",
              "      <td>Buffet</td>\n",
              "      <td>Banashankari</td>\n",
              "    </tr>\n",
              "    <tr>\n",
              "      <th>1</th>\n",
              "      <td>Yes</td>\n",
              "      <td>No</td>\n",
              "      <td>4.0</td>\n",
              "      <td>787</td>\n",
              "      <td>Chinese, North Indian, Thai</td>\n",
              "      <td>800.0</td>\n",
              "      <td>Buffet</td>\n",
              "      <td>Banashankari</td>\n",
              "    </tr>\n",
              "  </tbody>\n",
              "</table>\n",
              "</div>\n",
              "      <button class=\"colab-df-convert\" onclick=\"convertToInteractive('df-c7bb464e-41af-4934-ae70-15054ae8c275')\"\n",
              "              title=\"Convert this dataframe to an interactive table.\"\n",
              "              style=\"display:none;\">\n",
              "        \n",
              "  <svg xmlns=\"http://www.w3.org/2000/svg\" height=\"24px\"viewBox=\"0 0 24 24\"\n",
              "       width=\"24px\">\n",
              "    <path d=\"M0 0h24v24H0V0z\" fill=\"none\"/>\n",
              "    <path d=\"M18.56 5.44l.94 2.06.94-2.06 2.06-.94-2.06-.94-.94-2.06-.94 2.06-2.06.94zm-11 1L8.5 8.5l.94-2.06 2.06-.94-2.06-.94L8.5 2.5l-.94 2.06-2.06.94zm10 10l.94 2.06.94-2.06 2.06-.94-2.06-.94-.94-2.06-.94 2.06-2.06.94z\"/><path d=\"M17.41 7.96l-1.37-1.37c-.4-.4-.92-.59-1.43-.59-.52 0-1.04.2-1.43.59L10.3 9.45l-7.72 7.72c-.78.78-.78 2.05 0 2.83L4 21.41c.39.39.9.59 1.41.59.51 0 1.02-.2 1.41-.59l7.78-7.78 2.81-2.81c.8-.78.8-2.07 0-2.86zM5.41 20L4 18.59l7.72-7.72 1.47 1.35L5.41 20z\"/>\n",
              "  </svg>\n",
              "      </button>\n",
              "      \n",
              "  <style>\n",
              "    .colab-df-container {\n",
              "      display:flex;\n",
              "      flex-wrap:wrap;\n",
              "      gap: 12px;\n",
              "    }\n",
              "\n",
              "    .colab-df-convert {\n",
              "      background-color: #E8F0FE;\n",
              "      border: none;\n",
              "      border-radius: 50%;\n",
              "      cursor: pointer;\n",
              "      display: none;\n",
              "      fill: #1967D2;\n",
              "      height: 32px;\n",
              "      padding: 0 0 0 0;\n",
              "      width: 32px;\n",
              "    }\n",
              "\n",
              "    .colab-df-convert:hover {\n",
              "      background-color: #E2EBFA;\n",
              "      box-shadow: 0px 1px 2px rgba(60, 64, 67, 0.3), 0px 1px 3px 1px rgba(60, 64, 67, 0.15);\n",
              "      fill: #174EA6;\n",
              "    }\n",
              "\n",
              "    [theme=dark] .colab-df-convert {\n",
              "      background-color: #3B4455;\n",
              "      fill: #D2E3FC;\n",
              "    }\n",
              "\n",
              "    [theme=dark] .colab-df-convert:hover {\n",
              "      background-color: #434B5C;\n",
              "      box-shadow: 0px 1px 3px 1px rgba(0, 0, 0, 0.15);\n",
              "      filter: drop-shadow(0px 1px 2px rgba(0, 0, 0, 0.3));\n",
              "      fill: #FFFFFF;\n",
              "    }\n",
              "  </style>\n",
              "\n",
              "      <script>\n",
              "        const buttonEl =\n",
              "          document.querySelector('#df-c7bb464e-41af-4934-ae70-15054ae8c275 button.colab-df-convert');\n",
              "        buttonEl.style.display =\n",
              "          google.colab.kernel.accessAllowed ? 'block' : 'none';\n",
              "\n",
              "        async function convertToInteractive(key) {\n",
              "          const element = document.querySelector('#df-c7bb464e-41af-4934-ae70-15054ae8c275');\n",
              "          const dataTable =\n",
              "            await google.colab.kernel.invokeFunction('convertToInteractive',\n",
              "                                                     [key], {});\n",
              "          if (!dataTable) return;\n",
              "\n",
              "          const docLinkHtml = 'Like what you see? Visit the ' +\n",
              "            '<a target=\"_blank\" href=https://colab.research.google.com/notebooks/data_table.ipynb>data table notebook</a>'\n",
              "            + ' to learn more about interactive tables.';\n",
              "          element.innerHTML = '';\n",
              "          dataTable['output_type'] = 'display_data';\n",
              "          await google.colab.output.renderOutput(dataTable, element);\n",
              "          const docLink = document.createElement('div');\n",
              "          docLink.innerHTML = docLinkHtml;\n",
              "          element.appendChild(docLink);\n",
              "        }\n",
              "      </script>\n",
              "    </div>\n",
              "  </div>\n",
              "  "
            ]
          },
          "metadata": {},
          "execution_count": 67
        }
      ]
    },
    {
      "cell_type": "code",
      "source": [
        "pred_data = df[df['rate']==0].reset_index().drop(columns='index')\n",
        "pred_data"
      ],
      "metadata": {
        "id": "rm4Ysr8JRDme",
        "outputId": "f74e4593-39ed-4695-978f-fe605d564671",
        "colab": {
          "base_uri": "https://localhost:8080/",
          "height": 424
        }
      },
      "execution_count": 68,
      "outputs": [
        {
          "output_type": "execute_result",
          "data": {
            "text/plain": [
              "     online_order book_table  rate  votes                cuisines    cost  \\\n",
              "0              No         No   0.0      0  Street Food, Fast Food   500.0   \n",
              "1              No         No   0.0      0        Bakery, Desserts   500.0   \n",
              "2              No         No   0.0      0            South Indian   400.0   \n",
              "3              No         No   0.0      0            South Indian   200.0   \n",
              "4              No         No   0.0      0               Beverages   250.0   \n",
              "...           ...        ...   ...    ...                     ...     ...   \n",
              "6952           No         No   0.0      0            South Indian   200.0   \n",
              "6953           No         No   0.0      0          Biryani, Kebab   300.0   \n",
              "6954           No         No   0.0      0            North Indian   400.0   \n",
              "6955           No         No   0.0      0             Finger Food   600.0   \n",
              "6956           No         No   0.0      0             Finger Food  2000.0   \n",
              "\n",
              "     listed_in(type) listed_in(city)  \n",
              "0           Delivery    Banashankari  \n",
              "1           Delivery    Banashankari  \n",
              "2           Delivery    Banashankari  \n",
              "3           Delivery    Banashankari  \n",
              "4           Delivery    Banashankari  \n",
              "...              ...             ...  \n",
              "6952        Dine-out      Whitefield  \n",
              "6953        Dine-out      Whitefield  \n",
              "6954        Dine-out      Whitefield  \n",
              "6955   Pubs and bars      Whitefield  \n",
              "6956   Pubs and bars      Whitefield  \n",
              "\n",
              "[6957 rows x 8 columns]"
            ],
            "text/html": [
              "\n",
              "  <div id=\"df-3d876d9f-ae76-4dd3-b0e6-aac6706b345a\">\n",
              "    <div class=\"colab-df-container\">\n",
              "      <div>\n",
              "<style scoped>\n",
              "    .dataframe tbody tr th:only-of-type {\n",
              "        vertical-align: middle;\n",
              "    }\n",
              "\n",
              "    .dataframe tbody tr th {\n",
              "        vertical-align: top;\n",
              "    }\n",
              "\n",
              "    .dataframe thead th {\n",
              "        text-align: right;\n",
              "    }\n",
              "</style>\n",
              "<table border=\"1\" class=\"dataframe\">\n",
              "  <thead>\n",
              "    <tr style=\"text-align: right;\">\n",
              "      <th></th>\n",
              "      <th>online_order</th>\n",
              "      <th>book_table</th>\n",
              "      <th>rate</th>\n",
              "      <th>votes</th>\n",
              "      <th>cuisines</th>\n",
              "      <th>cost</th>\n",
              "      <th>listed_in(type)</th>\n",
              "      <th>listed_in(city)</th>\n",
              "    </tr>\n",
              "  </thead>\n",
              "  <tbody>\n",
              "    <tr>\n",
              "      <th>0</th>\n",
              "      <td>No</td>\n",
              "      <td>No</td>\n",
              "      <td>0.0</td>\n",
              "      <td>0</td>\n",
              "      <td>Street Food, Fast Food</td>\n",
              "      <td>500.0</td>\n",
              "      <td>Delivery</td>\n",
              "      <td>Banashankari</td>\n",
              "    </tr>\n",
              "    <tr>\n",
              "      <th>1</th>\n",
              "      <td>No</td>\n",
              "      <td>No</td>\n",
              "      <td>0.0</td>\n",
              "      <td>0</td>\n",
              "      <td>Bakery, Desserts</td>\n",
              "      <td>500.0</td>\n",
              "      <td>Delivery</td>\n",
              "      <td>Banashankari</td>\n",
              "    </tr>\n",
              "    <tr>\n",
              "      <th>2</th>\n",
              "      <td>No</td>\n",
              "      <td>No</td>\n",
              "      <td>0.0</td>\n",
              "      <td>0</td>\n",
              "      <td>South Indian</td>\n",
              "      <td>400.0</td>\n",
              "      <td>Delivery</td>\n",
              "      <td>Banashankari</td>\n",
              "    </tr>\n",
              "    <tr>\n",
              "      <th>3</th>\n",
              "      <td>No</td>\n",
              "      <td>No</td>\n",
              "      <td>0.0</td>\n",
              "      <td>0</td>\n",
              "      <td>South Indian</td>\n",
              "      <td>200.0</td>\n",
              "      <td>Delivery</td>\n",
              "      <td>Banashankari</td>\n",
              "    </tr>\n",
              "    <tr>\n",
              "      <th>4</th>\n",
              "      <td>No</td>\n",
              "      <td>No</td>\n",
              "      <td>0.0</td>\n",
              "      <td>0</td>\n",
              "      <td>Beverages</td>\n",
              "      <td>250.0</td>\n",
              "      <td>Delivery</td>\n",
              "      <td>Banashankari</td>\n",
              "    </tr>\n",
              "    <tr>\n",
              "      <th>...</th>\n",
              "      <td>...</td>\n",
              "      <td>...</td>\n",
              "      <td>...</td>\n",
              "      <td>...</td>\n",
              "      <td>...</td>\n",
              "      <td>...</td>\n",
              "      <td>...</td>\n",
              "      <td>...</td>\n",
              "    </tr>\n",
              "    <tr>\n",
              "      <th>6952</th>\n",
              "      <td>No</td>\n",
              "      <td>No</td>\n",
              "      <td>0.0</td>\n",
              "      <td>0</td>\n",
              "      <td>South Indian</td>\n",
              "      <td>200.0</td>\n",
              "      <td>Dine-out</td>\n",
              "      <td>Whitefield</td>\n",
              "    </tr>\n",
              "    <tr>\n",
              "      <th>6953</th>\n",
              "      <td>No</td>\n",
              "      <td>No</td>\n",
              "      <td>0.0</td>\n",
              "      <td>0</td>\n",
              "      <td>Biryani, Kebab</td>\n",
              "      <td>300.0</td>\n",
              "      <td>Dine-out</td>\n",
              "      <td>Whitefield</td>\n",
              "    </tr>\n",
              "    <tr>\n",
              "      <th>6954</th>\n",
              "      <td>No</td>\n",
              "      <td>No</td>\n",
              "      <td>0.0</td>\n",
              "      <td>0</td>\n",
              "      <td>North Indian</td>\n",
              "      <td>400.0</td>\n",
              "      <td>Dine-out</td>\n",
              "      <td>Whitefield</td>\n",
              "    </tr>\n",
              "    <tr>\n",
              "      <th>6955</th>\n",
              "      <td>No</td>\n",
              "      <td>No</td>\n",
              "      <td>0.0</td>\n",
              "      <td>0</td>\n",
              "      <td>Finger Food</td>\n",
              "      <td>600.0</td>\n",
              "      <td>Pubs and bars</td>\n",
              "      <td>Whitefield</td>\n",
              "    </tr>\n",
              "    <tr>\n",
              "      <th>6956</th>\n",
              "      <td>No</td>\n",
              "      <td>No</td>\n",
              "      <td>0.0</td>\n",
              "      <td>0</td>\n",
              "      <td>Finger Food</td>\n",
              "      <td>2000.0</td>\n",
              "      <td>Pubs and bars</td>\n",
              "      <td>Whitefield</td>\n",
              "    </tr>\n",
              "  </tbody>\n",
              "</table>\n",
              "<p>6957 rows × 8 columns</p>\n",
              "</div>\n",
              "      <button class=\"colab-df-convert\" onclick=\"convertToInteractive('df-3d876d9f-ae76-4dd3-b0e6-aac6706b345a')\"\n",
              "              title=\"Convert this dataframe to an interactive table.\"\n",
              "              style=\"display:none;\">\n",
              "        \n",
              "  <svg xmlns=\"http://www.w3.org/2000/svg\" height=\"24px\"viewBox=\"0 0 24 24\"\n",
              "       width=\"24px\">\n",
              "    <path d=\"M0 0h24v24H0V0z\" fill=\"none\"/>\n",
              "    <path d=\"M18.56 5.44l.94 2.06.94-2.06 2.06-.94-2.06-.94-.94-2.06-.94 2.06-2.06.94zm-11 1L8.5 8.5l.94-2.06 2.06-.94-2.06-.94L8.5 2.5l-.94 2.06-2.06.94zm10 10l.94 2.06.94-2.06 2.06-.94-2.06-.94-.94-2.06-.94 2.06-2.06.94z\"/><path d=\"M17.41 7.96l-1.37-1.37c-.4-.4-.92-.59-1.43-.59-.52 0-1.04.2-1.43.59L10.3 9.45l-7.72 7.72c-.78.78-.78 2.05 0 2.83L4 21.41c.39.39.9.59 1.41.59.51 0 1.02-.2 1.41-.59l7.78-7.78 2.81-2.81c.8-.78.8-2.07 0-2.86zM5.41 20L4 18.59l7.72-7.72 1.47 1.35L5.41 20z\"/>\n",
              "  </svg>\n",
              "      </button>\n",
              "      \n",
              "  <style>\n",
              "    .colab-df-container {\n",
              "      display:flex;\n",
              "      flex-wrap:wrap;\n",
              "      gap: 12px;\n",
              "    }\n",
              "\n",
              "    .colab-df-convert {\n",
              "      background-color: #E8F0FE;\n",
              "      border: none;\n",
              "      border-radius: 50%;\n",
              "      cursor: pointer;\n",
              "      display: none;\n",
              "      fill: #1967D2;\n",
              "      height: 32px;\n",
              "      padding: 0 0 0 0;\n",
              "      width: 32px;\n",
              "    }\n",
              "\n",
              "    .colab-df-convert:hover {\n",
              "      background-color: #E2EBFA;\n",
              "      box-shadow: 0px 1px 2px rgba(60, 64, 67, 0.3), 0px 1px 3px 1px rgba(60, 64, 67, 0.15);\n",
              "      fill: #174EA6;\n",
              "    }\n",
              "\n",
              "    [theme=dark] .colab-df-convert {\n",
              "      background-color: #3B4455;\n",
              "      fill: #D2E3FC;\n",
              "    }\n",
              "\n",
              "    [theme=dark] .colab-df-convert:hover {\n",
              "      background-color: #434B5C;\n",
              "      box-shadow: 0px 1px 3px 1px rgba(0, 0, 0, 0.15);\n",
              "      filter: drop-shadow(0px 1px 2px rgba(0, 0, 0, 0.3));\n",
              "      fill: #FFFFFF;\n",
              "    }\n",
              "  </style>\n",
              "\n",
              "      <script>\n",
              "        const buttonEl =\n",
              "          document.querySelector('#df-3d876d9f-ae76-4dd3-b0e6-aac6706b345a button.colab-df-convert');\n",
              "        buttonEl.style.display =\n",
              "          google.colab.kernel.accessAllowed ? 'block' : 'none';\n",
              "\n",
              "        async function convertToInteractive(key) {\n",
              "          const element = document.querySelector('#df-3d876d9f-ae76-4dd3-b0e6-aac6706b345a');\n",
              "          const dataTable =\n",
              "            await google.colab.kernel.invokeFunction('convertToInteractive',\n",
              "                                                     [key], {});\n",
              "          if (!dataTable) return;\n",
              "\n",
              "          const docLinkHtml = 'Like what you see? Visit the ' +\n",
              "            '<a target=\"_blank\" href=https://colab.research.google.com/notebooks/data_table.ipynb>data table notebook</a>'\n",
              "            + ' to learn more about interactive tables.';\n",
              "          element.innerHTML = '';\n",
              "          dataTable['output_type'] = 'display_data';\n",
              "          await google.colab.output.renderOutput(dataTable, element);\n",
              "          const docLink = document.createElement('div');\n",
              "          docLink.innerHTML = docLinkHtml;\n",
              "          element.appendChild(docLink);\n",
              "        }\n",
              "      </script>\n",
              "    </div>\n",
              "  </div>\n",
              "  "
            ]
          },
          "metadata": {},
          "execution_count": 68
        }
      ]
    },
    {
      "cell_type": "code",
      "source": [
        "#Splitting the data for all experiments"
      ],
      "metadata": {
        "id": "n9FLnMuTREKB"
      },
      "execution_count": 69,
      "outputs": []
    },
    {
      "cell_type": "code",
      "source": [
        "X = new_df.drop(columns='rate')\n",
        "y=new_df['rate'].astype(str)"
      ],
      "metadata": {
        "id": "ACCTFDUkREPr"
      },
      "execution_count": 70,
      "outputs": []
    },
    {
      "cell_type": "code",
      "source": [
        "X_new = X.copy()"
      ],
      "metadata": {
        "id": "AsKTwUl0RcPg"
      },
      "execution_count": 71,
      "outputs": []
    },
    {
      "cell_type": "code",
      "source": [
        "num_features = X_new.select_dtypes(exclude=\"object\").columns\n",
        "catg_features = X_new.select_dtypes(include=\"object\").columns"
      ],
      "metadata": {
        "id": "Gtd8guBMRdG3"
      },
      "execution_count": 72,
      "outputs": []
    },
    {
      "cell_type": "code",
      "source": [
        "num_features.shape"
      ],
      "metadata": {
        "id": "8eRw_ai8UrSU",
        "outputId": "767f0bc1-f9a2-4137-d709-03563f0feb1a",
        "colab": {
          "base_uri": "https://localhost:8080/"
        }
      },
      "execution_count": 77,
      "outputs": [
        {
          "output_type": "execute_result",
          "data": {
            "text/plain": [
              "(2,)"
            ]
          },
          "metadata": {},
          "execution_count": 77
        }
      ]
    },
    {
      "cell_type": "code",
      "source": [
        "catg_features.shape"
      ],
      "metadata": {
        "id": "SKbcqwmkUvMY",
        "outputId": "8a3be06b-71b2-43c8-c735-4e42ccabaae9",
        "colab": {
          "base_uri": "https://localhost:8080/"
        }
      },
      "execution_count": 78,
      "outputs": [
        {
          "output_type": "execute_result",
          "data": {
            "text/plain": [
              "(5,)"
            ]
          },
          "metadata": {},
          "execution_count": 78
        }
      ]
    },
    {
      "cell_type": "code",
      "source": [
        "X_new[catg_features] = X_new[catg_features].apply(lambda series: pd.Series(\n",
        "        LabelEncoder().fit_transform(series[series.notnull()]),\n",
        "        index=series[series.notnull()].index))"
      ],
      "metadata": {
        "id": "n_gaUQYLRdQ2"
      },
      "execution_count": 73,
      "outputs": []
    },
    {
      "cell_type": "code",
      "source": [
        "X_new"
      ],
      "metadata": {
        "id": "n6wq0zleRda7",
        "outputId": "7827fe18-8b68-4324-e530-b5db64574172",
        "colab": {
          "base_uri": "https://localhost:8080/",
          "height": 424
        }
      },
      "execution_count": 79,
      "outputs": [
        {
          "output_type": "execute_result",
          "data": {
            "text/plain": [
              "       online_order  book_table  votes  cuisines    cost  listed_in(type)  \\\n",
              "0                 1           1    775    1982.0   800.0                0   \n",
              "1                 1           0    787     855.0   800.0                0   \n",
              "2                 1           0    918     685.0   800.0                0   \n",
              "3                 0           0     88    2339.0   300.0                0   \n",
              "4                 0           0    166    2011.0   600.0                0   \n",
              "...             ...         ...    ...       ...     ...              ...   \n",
              "44755             0           0      0    1263.0   900.0                6   \n",
              "44756             0           0     81     105.0   800.0                6   \n",
              "44757             0           0     27     907.0  1500.0                6   \n",
              "44758             0           1    236    1263.0  2500.0                6   \n",
              "44759             0           0     13    1289.0  1500.0                6   \n",
              "\n",
              "       listed_in(city)  \n",
              "0                    1  \n",
              "1                    1  \n",
              "2                    1  \n",
              "3                    1  \n",
              "4                    1  \n",
              "...                ...  \n",
              "44755               29  \n",
              "44756               29  \n",
              "44757               29  \n",
              "44758               29  \n",
              "44759               29  \n",
              "\n",
              "[44760 rows x 7 columns]"
            ],
            "text/html": [
              "\n",
              "  <div id=\"df-28db54da-0fcb-465b-b598-e3bf5f3b5579\">\n",
              "    <div class=\"colab-df-container\">\n",
              "      <div>\n",
              "<style scoped>\n",
              "    .dataframe tbody tr th:only-of-type {\n",
              "        vertical-align: middle;\n",
              "    }\n",
              "\n",
              "    .dataframe tbody tr th {\n",
              "        vertical-align: top;\n",
              "    }\n",
              "\n",
              "    .dataframe thead th {\n",
              "        text-align: right;\n",
              "    }\n",
              "</style>\n",
              "<table border=\"1\" class=\"dataframe\">\n",
              "  <thead>\n",
              "    <tr style=\"text-align: right;\">\n",
              "      <th></th>\n",
              "      <th>online_order</th>\n",
              "      <th>book_table</th>\n",
              "      <th>votes</th>\n",
              "      <th>cuisines</th>\n",
              "      <th>cost</th>\n",
              "      <th>listed_in(type)</th>\n",
              "      <th>listed_in(city)</th>\n",
              "    </tr>\n",
              "  </thead>\n",
              "  <tbody>\n",
              "    <tr>\n",
              "      <th>0</th>\n",
              "      <td>1</td>\n",
              "      <td>1</td>\n",
              "      <td>775</td>\n",
              "      <td>1982.0</td>\n",
              "      <td>800.0</td>\n",
              "      <td>0</td>\n",
              "      <td>1</td>\n",
              "    </tr>\n",
              "    <tr>\n",
              "      <th>1</th>\n",
              "      <td>1</td>\n",
              "      <td>0</td>\n",
              "      <td>787</td>\n",
              "      <td>855.0</td>\n",
              "      <td>800.0</td>\n",
              "      <td>0</td>\n",
              "      <td>1</td>\n",
              "    </tr>\n",
              "    <tr>\n",
              "      <th>2</th>\n",
              "      <td>1</td>\n",
              "      <td>0</td>\n",
              "      <td>918</td>\n",
              "      <td>685.0</td>\n",
              "      <td>800.0</td>\n",
              "      <td>0</td>\n",
              "      <td>1</td>\n",
              "    </tr>\n",
              "    <tr>\n",
              "      <th>3</th>\n",
              "      <td>0</td>\n",
              "      <td>0</td>\n",
              "      <td>88</td>\n",
              "      <td>2339.0</td>\n",
              "      <td>300.0</td>\n",
              "      <td>0</td>\n",
              "      <td>1</td>\n",
              "    </tr>\n",
              "    <tr>\n",
              "      <th>4</th>\n",
              "      <td>0</td>\n",
              "      <td>0</td>\n",
              "      <td>166</td>\n",
              "      <td>2011.0</td>\n",
              "      <td>600.0</td>\n",
              "      <td>0</td>\n",
              "      <td>1</td>\n",
              "    </tr>\n",
              "    <tr>\n",
              "      <th>...</th>\n",
              "      <td>...</td>\n",
              "      <td>...</td>\n",
              "      <td>...</td>\n",
              "      <td>...</td>\n",
              "      <td>...</td>\n",
              "      <td>...</td>\n",
              "      <td>...</td>\n",
              "    </tr>\n",
              "    <tr>\n",
              "      <th>44755</th>\n",
              "      <td>0</td>\n",
              "      <td>0</td>\n",
              "      <td>0</td>\n",
              "      <td>1263.0</td>\n",
              "      <td>900.0</td>\n",
              "      <td>6</td>\n",
              "      <td>29</td>\n",
              "    </tr>\n",
              "    <tr>\n",
              "      <th>44756</th>\n",
              "      <td>0</td>\n",
              "      <td>0</td>\n",
              "      <td>81</td>\n",
              "      <td>105.0</td>\n",
              "      <td>800.0</td>\n",
              "      <td>6</td>\n",
              "      <td>29</td>\n",
              "    </tr>\n",
              "    <tr>\n",
              "      <th>44757</th>\n",
              "      <td>0</td>\n",
              "      <td>0</td>\n",
              "      <td>27</td>\n",
              "      <td>907.0</td>\n",
              "      <td>1500.0</td>\n",
              "      <td>6</td>\n",
              "      <td>29</td>\n",
              "    </tr>\n",
              "    <tr>\n",
              "      <th>44758</th>\n",
              "      <td>0</td>\n",
              "      <td>1</td>\n",
              "      <td>236</td>\n",
              "      <td>1263.0</td>\n",
              "      <td>2500.0</td>\n",
              "      <td>6</td>\n",
              "      <td>29</td>\n",
              "    </tr>\n",
              "    <tr>\n",
              "      <th>44759</th>\n",
              "      <td>0</td>\n",
              "      <td>0</td>\n",
              "      <td>13</td>\n",
              "      <td>1289.0</td>\n",
              "      <td>1500.0</td>\n",
              "      <td>6</td>\n",
              "      <td>29</td>\n",
              "    </tr>\n",
              "  </tbody>\n",
              "</table>\n",
              "<p>44760 rows × 7 columns</p>\n",
              "</div>\n",
              "      <button class=\"colab-df-convert\" onclick=\"convertToInteractive('df-28db54da-0fcb-465b-b598-e3bf5f3b5579')\"\n",
              "              title=\"Convert this dataframe to an interactive table.\"\n",
              "              style=\"display:none;\">\n",
              "        \n",
              "  <svg xmlns=\"http://www.w3.org/2000/svg\" height=\"24px\"viewBox=\"0 0 24 24\"\n",
              "       width=\"24px\">\n",
              "    <path d=\"M0 0h24v24H0V0z\" fill=\"none\"/>\n",
              "    <path d=\"M18.56 5.44l.94 2.06.94-2.06 2.06-.94-2.06-.94-.94-2.06-.94 2.06-2.06.94zm-11 1L8.5 8.5l.94-2.06 2.06-.94-2.06-.94L8.5 2.5l-.94 2.06-2.06.94zm10 10l.94 2.06.94-2.06 2.06-.94-2.06-.94-.94-2.06-.94 2.06-2.06.94z\"/><path d=\"M17.41 7.96l-1.37-1.37c-.4-.4-.92-.59-1.43-.59-.52 0-1.04.2-1.43.59L10.3 9.45l-7.72 7.72c-.78.78-.78 2.05 0 2.83L4 21.41c.39.39.9.59 1.41.59.51 0 1.02-.2 1.41-.59l7.78-7.78 2.81-2.81c.8-.78.8-2.07 0-2.86zM5.41 20L4 18.59l7.72-7.72 1.47 1.35L5.41 20z\"/>\n",
              "  </svg>\n",
              "      </button>\n",
              "      \n",
              "  <style>\n",
              "    .colab-df-container {\n",
              "      display:flex;\n",
              "      flex-wrap:wrap;\n",
              "      gap: 12px;\n",
              "    }\n",
              "\n",
              "    .colab-df-convert {\n",
              "      background-color: #E8F0FE;\n",
              "      border: none;\n",
              "      border-radius: 50%;\n",
              "      cursor: pointer;\n",
              "      display: none;\n",
              "      fill: #1967D2;\n",
              "      height: 32px;\n",
              "      padding: 0 0 0 0;\n",
              "      width: 32px;\n",
              "    }\n",
              "\n",
              "    .colab-df-convert:hover {\n",
              "      background-color: #E2EBFA;\n",
              "      box-shadow: 0px 1px 2px rgba(60, 64, 67, 0.3), 0px 1px 3px 1px rgba(60, 64, 67, 0.15);\n",
              "      fill: #174EA6;\n",
              "    }\n",
              "\n",
              "    [theme=dark] .colab-df-convert {\n",
              "      background-color: #3B4455;\n",
              "      fill: #D2E3FC;\n",
              "    }\n",
              "\n",
              "    [theme=dark] .colab-df-convert:hover {\n",
              "      background-color: #434B5C;\n",
              "      box-shadow: 0px 1px 3px 1px rgba(0, 0, 0, 0.15);\n",
              "      filter: drop-shadow(0px 1px 2px rgba(0, 0, 0, 0.3));\n",
              "      fill: #FFFFFF;\n",
              "    }\n",
              "  </style>\n",
              "\n",
              "      <script>\n",
              "        const buttonEl =\n",
              "          document.querySelector('#df-28db54da-0fcb-465b-b598-e3bf5f3b5579 button.colab-df-convert');\n",
              "        buttonEl.style.display =\n",
              "          google.colab.kernel.accessAllowed ? 'block' : 'none';\n",
              "\n",
              "        async function convertToInteractive(key) {\n",
              "          const element = document.querySelector('#df-28db54da-0fcb-465b-b598-e3bf5f3b5579');\n",
              "          const dataTable =\n",
              "            await google.colab.kernel.invokeFunction('convertToInteractive',\n",
              "                                                     [key], {});\n",
              "          if (!dataTable) return;\n",
              "\n",
              "          const docLinkHtml = 'Like what you see? Visit the ' +\n",
              "            '<a target=\"_blank\" href=https://colab.research.google.com/notebooks/data_table.ipynb>data table notebook</a>'\n",
              "            + ' to learn more about interactive tables.';\n",
              "          element.innerHTML = '';\n",
              "          dataTable['output_type'] = 'display_data';\n",
              "          await google.colab.output.renderOutput(dataTable, element);\n",
              "          const docLink = document.createElement('div');\n",
              "          docLink.innerHTML = docLinkHtml;\n",
              "          element.appendChild(docLink);\n",
              "        }\n",
              "      </script>\n",
              "    </div>\n",
              "  </div>\n",
              "  "
            ]
          },
          "metadata": {},
          "execution_count": 79
        }
      ]
    },
    {
      "cell_type": "markdown",
      "source": [
        "## Create functions for model training and evaluation"
      ],
      "metadata": {
        "id": "bpp2rKnHMnuP"
      }
    },
    {
      "cell_type": "code",
      "source": [],
      "metadata": {
        "id": "MXOZLdkERa1X"
      },
      "execution_count": null,
      "outputs": []
    },
    {
      "cell_type": "code",
      "execution_count": 74,
      "metadata": {
        "id": "d1dqV_Fw1jPw"
      },
      "outputs": [],
      "source": [
        "from numpy.lib.function_base import average\n",
        "def evaluate_clf(true, predicted):\n",
        "    '''\n",
        "    This function takes in true values and predicted values\n",
        "    Returns: Accuracy, F1-Score, Precision, Recall, Roc-auc Score\n",
        "    '''\n",
        "    acc = accuracy_score(true, predicted) # Calculate Accuracy\n",
        "    f1 = f1_score(true, predicted,average=\"micro\") # Calculate F1-score\n",
        "    precision = precision_score(true, predicted,average=\"micro\") # Calculate Precision\n",
        "    recall = recall_score(true, predicted,average=\"micro\")  # Calculate Recall\n",
        "    \n",
        "    return acc, f1 , precision, recall"
      ]
    },
    {
      "cell_type": "markdown",
      "source": [
        "## Create a function which can evaluate models and return a report "
      ],
      "metadata": {
        "id": "__M97_-xR8CP"
      }
    },
    {
      "cell_type": "code",
      "source": [
        "# Create a function for training data set which can evaluate models and return a report \n",
        "def evaluate_models_train(X_train, y_train, models):\n",
        "    '''\n",
        "    This function takes in X and y and models dictionary as input\n",
        "    It splits the data into Train Test split\n",
        "    Iterates through the given model dictionary and evaluates the metrics\n",
        "    Returns: Dataframe which contains report of all models metrics with cost\n",
        "    '''\n",
        "    \n",
        "    models_list = []\n",
        "    \n",
        "    for i in range(len(list(models))):\n",
        "        model = list(models.values())[i]\n",
        "        model.fit(X_train, y_train) # Train model\n",
        "\n",
        "        # Make predictions\n",
        "        y_train_pred = model.predict(X_train)\n",
        "\n",
        "        # Training set performance\n",
        "        model_train_accuracy, model_train_f1,model_train_precision,\\\n",
        "        model_train_recall=evaluate_clf(y_train ,y_train_pred)\n",
        "\n",
        "        print(list(models.keys())[i])\n",
        "        models_list.append(list(models.keys())[i])\n",
        "\n",
        "        print('Model performance for Training set')\n",
        "        print(\"- Accuracy: {:.4f}\".format(model_train_accuracy))\n",
        "        print('- F1 score: {:.4f}'.format(model_train_f1)) \n",
        "        print('- Precision: {:.4f}'.format(model_train_precision))\n",
        "        print('- Recall: {:.4f}'.format(model_train_recall))\n",
        "\n",
        "        print('\\n')\n"
      ],
      "metadata": {
        "id": "zpU1e7RGR2Qo"
      },
      "execution_count": 90,
      "outputs": []
    },
    {
      "cell_type": "code",
      "execution_count": 107,
      "metadata": {
        "id": "ix-GfX9W1k6Y"
      },
      "outputs": [],
      "source": [
        "# Create a function for test dataset which can evaluate models and return a report \n",
        "def evaluate_models_test(X_test, y_test, models):\n",
        "    '''\n",
        "    This function takes in X and y and models dictionary as input\n",
        "    It splits the data into Train Test split\n",
        "    Iterates through the given model dictionary and evaluates the metrics\n",
        "    Returns: Dataframe which contains report of all models metrics with cost\n",
        "    '''\n",
        "    \n",
        "    models_list = []\n",
        "    \n",
        "    for i in range(len(list(models))):\n",
        "\n",
        "      model = list(models.values())[i]\n",
        "\n",
        "      y_test_pred = model.predict(X_test)\n",
        "      \n",
        "      # Test set performance\n",
        "      model_test_accuracy,model_test_f1,model_test_precision,\\\n",
        "      model_test_recall=evaluate_clf(y_test, y_test_pred)\n",
        "\n",
        "      print(list(models.keys())[i])\n",
        "      models_list.append(list(models.keys())[i])\n",
        "\n",
        "      print('Model performance for Test set')\n",
        "      print('- Accuracy: {:.4f}'.format(model_test_accuracy))\n",
        "      print('- F1 score: {:.4f}'.format(model_test_f1))\n",
        "      print('- Precision: {:.4f}'.format(model_test_precision))\n",
        "      print('- Recall: {:.4f}'.format(model_test_recall))\n",
        "\n",
        "      print('\\n')\n"
      ]
    },
    {
      "cell_type": "code",
      "source": [],
      "metadata": {
        "id": "73uUTjlyNK8Z"
      },
      "execution_count": null,
      "outputs": []
    },
    {
      "cell_type": "markdown",
      "source": [
        "## Experiment: 1 = KNN Imputer for Null values\n",
        "\n",
        "Why Robust scaler and not Standard scaler?\n",
        "\n",
        "Scaling the data using Robust scaler\n",
        "Since most of the independent variables are not normally distributed we cannot use Standardscaler\n",
        "Why Robust Scaler and not Minmax?\n",
        "\n",
        "because most of the feature has outliers. So Minmax will scale data according to Max values which is outlier.\n",
        "This Scaler removes the median and scales the data according to the quantile range (defaults to IQR: Interquartile Range). The IQR is the range between the 1st quartile (25th quantile) and the 3rd quartile (75th quantile)."
      ],
      "metadata": {
        "id": "ufjGGjtbNZhB"
      }
    },
    {
      "cell_type": "markdown",
      "source": [
        "## Finding the optimal n_neighbour value for KNN imputer"
      ],
      "metadata": {
        "id": "2CxudbnSODG6"
      }
    },
    {
      "cell_type": "markdown",
      "source": [
        "# Why KNN Imputer?¶\n",
        "# KNNImputer by scikit-learn is a widely used method to impute missing values. It is widely being observed as a replacement for traditional imputation techniques.\n",
        "# KNNImputer helps to impute missing values present in the observations by finding the nearest neighbors with the Euclidean distance matrix.\n",
        "# Here we Iterates through different K values and get accuracy and choose best K values."
      ],
      "metadata": {
        "id": "-Qwk2LHxgE-d"
      }
    },
    {
      "cell_type": "code",
      "source": [
        "X1=X_new.copy()\n",
        "results=[]\n",
        "# define imputer\n",
        "imputer = KNNImputer(n_neighbors=5, weights='uniform', metric='nan_euclidean')\n",
        "strategies = [str(i) for i in [1,3,5,7,9]]\n",
        "for s in strategies:\n",
        "    pipeline = Pipeline(steps=[('i', KNNImputer(n_neighbors=int(s))), ('m', LogisticRegression())])\n",
        "    scores = cross_val_score(pipeline, X1, y, scoring='accuracy', cv=2, n_jobs=-1)\n",
        "    results.append(scores)\n",
        "    print('n_neighbors= %s || accuracy (%.4f)' % (s , mean(scores)))"
      ],
      "metadata": {
        "colab": {
          "base_uri": "https://localhost:8080/"
        },
        "id": "CbnJWMsxOBzo",
        "outputId": "883fe40d-3297-46ae-a7b0-74d8ba192489"
      },
      "execution_count": 81,
      "outputs": [
        {
          "output_type": "stream",
          "name": "stdout",
          "text": [
            "n_neighbors= 1 || accuracy (0.5827)\n",
            "n_neighbors= 3 || accuracy (0.5921)\n",
            "n_neighbors= 5 || accuracy (0.5914)\n",
            "n_neighbors= 7 || accuracy (0.5733)\n",
            "n_neighbors= 9 || accuracy (0.5813)\n"
          ]
        }
      ]
    },
    {
      "cell_type": "markdown",
      "source": [
        "## We can observe n_neighbors=3 able to produce highest accuracy"
      ],
      "metadata": {
        "id": "v4QU4NpmQlHL"
      }
    },
    {
      "cell_type": "markdown",
      "source": [
        "## Pipeline for KNN imputer"
      ],
      "metadata": {
        "id": "QwfC5oUeQsEp"
      }
    },
    {
      "cell_type": "code",
      "source": [
        "# Fit the KNN imputer with selected K-value\n",
        "knn_pipeline = Pipeline(steps=[\n",
        "    ('imputer', KNNImputer(n_neighbors=3)),\n",
        "    ('RobustScaler', RobustScaler())\n",
        "])"
      ],
      "metadata": {
        "id": "qamoCNjmOB2u"
      },
      "execution_count": 82,
      "outputs": []
    },
    {
      "cell_type": "code",
      "source": [
        "X_train, X_test, y_train, y_test = train_test_split(X_new,y,test_size=0.2,random_state=42)"
      ],
      "metadata": {
        "id": "1Dgb_amN_cNf"
      },
      "execution_count": 108,
      "outputs": []
    },
    {
      "cell_type": "code",
      "source": [
        "X_knn_train =knn_pipeline.fit_transform(X_train)\n",
        "\n",
        "X_knn_test =knn_pipeline.transform(X_test)\n"
      ],
      "metadata": {
        "id": "8Ue44dDTOB6k"
      },
      "execution_count": 109,
      "outputs": []
    },
    {
      "cell_type": "markdown",
      "source": [
        "## Initialize Default Models in a dictionary"
      ],
      "metadata": {
        "id": "S3UjeGt8RKWi"
      }
    },
    {
      "cell_type": "code",
      "source": [
        "# Dictionary which contains models for experiment\n",
        "models = {\n",
        "    \"Random Forest\": RandomForestClassifier(),\n",
        "    \"Decision Tree\": DecisionTreeClassifier(),\n",
        "    \"Gradient Boosting\": GradientBoostingClassifier(),\n",
        "    \"Logistic Regression\": LogisticRegression(),\n",
        "     \"K-Neighbors Classifier\": KNeighborsClassifier(),\n",
        "    \"XGBClassifier\": XGBClassifier(), \n",
        "     \"CatBoosting Classifier\": CatBoostClassifier(verbose=False),\n",
        "    \"AdaBoost Classifier\": AdaBoostClassifier()\n",
        "}"
      ],
      "metadata": {
        "id": "wXKta_8bOCCx"
      },
      "execution_count": 110,
      "outputs": []
    },
    {
      "cell_type": "markdown",
      "source": [
        "## Fit KNN imputed data for models in dictionary"
      ],
      "metadata": {
        "id": "reIlHuQcRTUL"
      }
    },
    {
      "cell_type": "code",
      "source": [
        "report_knn_train = evaluate_models_train(X_knn_train, y_train, models)\n"
      ],
      "metadata": {
        "colab": {
          "base_uri": "https://localhost:8080/"
        },
        "id": "cUiaBKySRb1j",
        "outputId": "7be01c5a-83e5-42dc-ef9b-e0beadac322a"
      },
      "execution_count": 111,
      "outputs": [
        {
          "output_type": "stream",
          "name": "stdout",
          "text": [
            "Random Forest\n",
            "Model performance for Training set\n",
            "- Accuracy: 0.9977\n",
            "- F1 score: 0.9977\n",
            "- Precision: 0.9977\n",
            "- Recall: 0.9977\n",
            "\n",
            "\n",
            "Decision Tree\n",
            "Model performance for Training set\n",
            "- Accuracy: 0.9977\n",
            "- F1 score: 0.9977\n",
            "- Precision: 0.9977\n",
            "- Recall: 0.9977\n",
            "\n",
            "\n",
            "Gradient Boosting\n",
            "Model performance for Training set\n",
            "- Accuracy: 0.6654\n",
            "- F1 score: 0.6654\n",
            "- Precision: 0.6654\n",
            "- Recall: 0.6654\n",
            "\n",
            "\n",
            "Logistic Regression\n",
            "Model performance for Training set\n",
            "- Accuracy: 0.6017\n",
            "- F1 score: 0.6017\n",
            "- Precision: 0.6017\n",
            "- Recall: 0.6017\n",
            "\n",
            "\n",
            "K-Neighbors Classifier\n",
            "Model performance for Training set\n",
            "- Accuracy: 0.7519\n",
            "- F1 score: 0.7519\n",
            "- Precision: 0.7519\n",
            "- Recall: 0.7519\n",
            "\n",
            "\n",
            "XGBClassifier\n",
            "Model performance for Training set\n",
            "- Accuracy: 0.6503\n",
            "- F1 score: 0.6503\n",
            "- Precision: 0.6503\n",
            "- Recall: 0.6503\n",
            "\n",
            "\n",
            "CatBoosting Classifier\n",
            "Model performance for Training set\n",
            "- Accuracy: 0.7819\n",
            "- F1 score: 0.7819\n",
            "- Precision: 0.7819\n",
            "- Recall: 0.7819\n",
            "\n",
            "\n",
            "AdaBoost Classifier\n",
            "Model performance for Training set\n",
            "- Accuracy: 0.6296\n",
            "- F1 score: 0.6296\n",
            "- Precision: 0.6296\n",
            "- Recall: 0.6296\n",
            "\n",
            "\n"
          ]
        }
      ]
    },
    {
      "cell_type": "code",
      "source": [
        "\n",
        "report_knn_test = evaluate_models_test( X_knn_test, y_test, models)"
      ],
      "metadata": {
        "id": "qdoCOLEYFt4S",
        "outputId": "645d64ad-e430-43c2-bdc9-6d1fcd9ea261",
        "colab": {
          "base_uri": "https://localhost:8080/"
        }
      },
      "execution_count": 113,
      "outputs": [
        {
          "output_type": "stream",
          "name": "stdout",
          "text": [
            "Random Forest\n",
            "Model performance for Test set\n",
            "- Accuracy: 0.8216\n",
            "- F1 score: 0.8216\n",
            "- Precision: 0.8216\n",
            "- Recall: 0.8216\n",
            "\n",
            "\n",
            "Decision Tree\n",
            "Model performance for Test set\n",
            "- Accuracy: 0.8710\n",
            "- F1 score: 0.8710\n",
            "- Precision: 0.8710\n",
            "- Recall: 0.8710\n",
            "\n",
            "\n",
            "Gradient Boosting\n",
            "Model performance for Test set\n",
            "- Accuracy: 0.6556\n",
            "- F1 score: 0.6556\n",
            "- Precision: 0.6556\n",
            "- Recall: 0.6556\n",
            "\n",
            "\n",
            "Logistic Regression\n",
            "Model performance for Test set\n",
            "- Accuracy: 0.6029\n",
            "- F1 score: 0.6029\n",
            "- Precision: 0.6029\n",
            "- Recall: 0.6029\n",
            "\n",
            "\n",
            "K-Neighbors Classifier\n",
            "Model performance for Test set\n",
            "- Accuracy: 0.6078\n",
            "- F1 score: 0.6078\n",
            "- Precision: 0.6078\n",
            "- Recall: 0.6078\n",
            "\n",
            "\n",
            "XGBClassifier\n",
            "Model performance for Test set\n",
            "- Accuracy: 0.6471\n",
            "- F1 score: 0.6471\n",
            "- Precision: 0.6471\n",
            "- Recall: 0.6471\n",
            "\n",
            "\n",
            "CatBoosting Classifier\n",
            "Model performance for Test set\n",
            "- Accuracy: 0.7349\n",
            "- F1 score: 0.7349\n",
            "- Precision: 0.7349\n",
            "- Recall: 0.7349\n",
            "\n",
            "\n",
            "AdaBoost Classifier\n",
            "Model performance for Test set\n",
            "- Accuracy: 0.6266\n",
            "- F1 score: 0.6266\n",
            "- Precision: 0.6266\n",
            "- Recall: 0.6266\n",
            "\n",
            "\n"
          ]
        }
      ]
    },
    {
      "cell_type": "markdown",
      "source": [
        "## Experiment: 2 = Iterative Imputer with Strategy Median for numerical features and most frequent for categorical feature"
      ],
      "metadata": {
        "id": "ebcccAAYRw6C"
      }
    },
    {
      "cell_type": "code",
      "source": [
        "# Fit the iterative imputer \n",
        "\n",
        "num_iterative_pipeline = Pipeline(steps=[('imp_num', IterativeImputer(initial_strategy='median')),('RobustScaler', RobustScaler())])\n",
        "\n",
        "catg_iterative_pipeline = Pipeline(steps=[('imp_cat', IterativeImputer(initial_strategy='most_frequent')),('RobustScaler', RobustScaler())])"
      ],
      "metadata": {
        "id": "zPKF54jDZVxt"
      },
      "execution_count": 114,
      "outputs": []
    },
    {
      "cell_type": "code",
      "source": [
        "X_train[num_features] = num_iterative_pipeline.fit_transform(X_train[num_features])\n",
        "X_train[catg_features] = catg_iterative_pipeline.transform(X_train[catg_features])\n",
        "\n",
        "X_test[num_features] = num_iterative_pipeline.fit_transform(X_test[num_features])\n",
        "X_test[catg_features] = catg_iterative_pipeline.transform(X_test[catg_features])"
      ],
      "metadata": {
        "id": "C73gCb3AcYJU"
      },
      "execution_count": 117,
      "outputs": []
    },
    {
      "cell_type": "code",
      "execution_count": 118,
      "metadata": {
        "id": "qfjn8Eu22TA5",
        "colab": {
          "base_uri": "https://localhost:8080/"
        },
        "outputId": "9abcada6-31d1-4380-d226-da14eed44d42"
      },
      "outputs": [
        {
          "output_type": "stream",
          "name": "stdout",
          "text": [
            "Random Forest\n",
            "Model performance for Training set\n",
            "- Accuracy: 0.9977\n",
            "- F1 score: 0.9977\n",
            "- Precision: 0.9977\n",
            "- Recall: 0.9977\n",
            "\n",
            "\n",
            "Decision Tree\n",
            "Model performance for Training set\n",
            "- Accuracy: 0.9977\n",
            "- F1 score: 0.9977\n",
            "- Precision: 0.9977\n",
            "- Recall: 0.9977\n",
            "\n",
            "\n",
            "Gradient Boosting\n",
            "Model performance for Training set\n",
            "- Accuracy: 0.6673\n",
            "- F1 score: 0.6673\n",
            "- Precision: 0.6673\n",
            "- Recall: 0.6673\n",
            "\n",
            "\n",
            "Logistic Regression\n",
            "Model performance for Training set\n",
            "- Accuracy: 0.6017\n",
            "- F1 score: 0.6017\n",
            "- Precision: 0.6017\n",
            "- Recall: 0.6017\n",
            "\n",
            "\n",
            "K-Neighbors Classifier\n",
            "Model performance for Training set\n",
            "- Accuracy: 0.7604\n",
            "- F1 score: 0.7604\n",
            "- Precision: 0.7604\n",
            "- Recall: 0.7604\n",
            "\n",
            "\n",
            "XGBClassifier\n",
            "Model performance for Training set\n",
            "- Accuracy: 0.6495\n",
            "- F1 score: 0.6495\n",
            "- Precision: 0.6495\n",
            "- Recall: 0.6495\n",
            "\n",
            "\n",
            "CatBoosting Classifier\n",
            "Model performance for Training set\n",
            "- Accuracy: 0.7807\n",
            "- F1 score: 0.7807\n",
            "- Precision: 0.7807\n",
            "- Recall: 0.7807\n",
            "\n",
            "\n",
            "AdaBoost Classifier\n",
            "Model performance for Training set\n",
            "- Accuracy: 0.6296\n",
            "- F1 score: 0.6296\n",
            "- Precision: 0.6296\n",
            "- Recall: 0.6296\n",
            "\n",
            "\n"
          ]
        }
      ],
      "source": [
        "report_iter_train = evaluate_models_train(X_train, y_train, models)"
      ]
    },
    {
      "cell_type": "code",
      "source": [
        "report_iter_test = evaluate_models_test(X_test, y_test, models)"
      ],
      "metadata": {
        "id": "wVq-Y5O3KVBK",
        "outputId": "cf10ecda-5d31-47bb-b53c-dc116b0e1f68",
        "colab": {
          "base_uri": "https://localhost:8080/"
        }
      },
      "execution_count": 119,
      "outputs": [
        {
          "output_type": "stream",
          "name": "stdout",
          "text": [
            "Random Forest\n",
            "Model performance for Test set\n",
            "- Accuracy: 0.7221\n",
            "- F1 score: 0.7221\n",
            "- Precision: 0.7221\n",
            "- Recall: 0.7221\n",
            "\n",
            "\n",
            "Decision Tree\n",
            "Model performance for Test set\n",
            "- Accuracy: 0.6519\n",
            "- F1 score: 0.6519\n",
            "- Precision: 0.6519\n",
            "- Recall: 0.6519\n",
            "\n",
            "\n",
            "Gradient Boosting\n",
            "Model performance for Test set\n",
            "- Accuracy: 0.6445\n",
            "- F1 score: 0.6445\n",
            "- Precision: 0.6445\n",
            "- Recall: 0.6445\n",
            "\n",
            "\n",
            "Logistic Regression\n",
            "Model performance for Test set\n",
            "- Accuracy: 0.6029\n",
            "- F1 score: 0.6029\n",
            "- Precision: 0.6029\n",
            "- Recall: 0.6029\n",
            "\n",
            "\n",
            "K-Neighbors Classifier\n",
            "Model performance for Test set\n",
            "- Accuracy: 0.6324\n",
            "- F1 score: 0.6324\n",
            "- Precision: 0.6324\n",
            "- Recall: 0.6324\n",
            "\n",
            "\n",
            "XGBClassifier\n",
            "Model performance for Test set\n",
            "- Accuracy: 0.6424\n",
            "- F1 score: 0.6424\n",
            "- Precision: 0.6424\n",
            "- Recall: 0.6424\n",
            "\n",
            "\n",
            "CatBoosting Classifier\n",
            "Model performance for Test set\n",
            "- Accuracy: 0.6640\n",
            "- F1 score: 0.6640\n",
            "- Precision: 0.6640\n",
            "- Recall: 0.6640\n",
            "\n",
            "\n",
            "AdaBoost Classifier\n",
            "Model performance for Test set\n",
            "- Accuracy: 0.6344\n",
            "- F1 score: 0.6344\n",
            "- Precision: 0.6344\n",
            "- Recall: 0.6344\n",
            "\n",
            "\n"
          ]
        }
      ]
    },
    {
      "cell_type": "markdown",
      "source": [
        "## Experiment: 3 = Simple Imputer with Strategy Median\n",
        "\n",
        "### SimpleImputer is a class in the sklearn.impute module that can be used to replace missing values in a dataset, using a variety of input strategies.\n",
        "\n",
        "### Here we use SimpleImputer can also be used to impute multiple columns at once by passing in a list of column names. SimpleImputer will then replace missing values in all of the specified columns."
      ],
      "metadata": {
        "id": "rppbeY1SgZGp"
      }
    },
    {
      "cell_type": "code",
      "source": [
        "X_train, X_test, y_train, y_test = train_test_split(X_new,y,test_size=0.2,random_state=42)"
      ],
      "metadata": {
        "id": "SalbwheCLtzU"
      },
      "execution_count": 120,
      "outputs": []
    },
    {
      "cell_type": "code",
      "execution_count": 123,
      "metadata": {
        "id": "Bxcfgi5I2bK5"
      },
      "outputs": [],
      "source": [
        "\n",
        "# Fit the Simple imputer with strategy median\n",
        "median_pipeline = Pipeline(steps=[\n",
        "    ('imputer', SimpleImputer(strategy='median')),\n",
        "    ('RobustScaler', RobustScaler())\n",
        "])\n",
        "\n"
      ]
    },
    {
      "cell_type": "code",
      "execution_count": 124,
      "metadata": {
        "id": "MXaF1ItO66t_"
      },
      "outputs": [],
      "source": [
        "# Fit X with median_pipeline\n",
        "X_median_train = median_pipeline.fit_transform(X_train)\n",
        "\n",
        "X_median_test = median_pipeline.transform(X_test)"
      ]
    },
    {
      "cell_type": "code",
      "source": [
        "# Training the models\n",
        "report_median = evaluate_models_train(X_median_train, y_train, models)\n",
        "\n",
        "report_median = evaluate_models_test(X_median_test, y_test, models)"
      ],
      "metadata": {
        "id": "REmlZV0pMMOw",
        "outputId": "b7c55cd4-b558-44f8-c01f-65a818b8698f",
        "colab": {
          "base_uri": "https://localhost:8080/"
        }
      },
      "execution_count": 125,
      "outputs": [
        {
          "output_type": "stream",
          "name": "stdout",
          "text": [
            "Random Forest\n",
            "Model performance for Training set\n",
            "- Accuracy: 0.9977\n",
            "- F1 score: 0.9977\n",
            "- Precision: 0.9977\n",
            "- Recall: 0.9977\n",
            "\n",
            "\n",
            "Decision Tree\n",
            "Model performance for Training set\n",
            "- Accuracy: 0.9977\n",
            "- F1 score: 0.9977\n",
            "- Precision: 0.9977\n",
            "- Recall: 0.9977\n",
            "\n",
            "\n",
            "Gradient Boosting\n",
            "Model performance for Training set\n",
            "- Accuracy: 0.6666\n",
            "- F1 score: 0.6666\n",
            "- Precision: 0.6666\n",
            "- Recall: 0.6666\n",
            "\n",
            "\n",
            "Logistic Regression\n",
            "Model performance for Training set\n",
            "- Accuracy: 0.6017\n",
            "- F1 score: 0.6017\n",
            "- Precision: 0.6017\n",
            "- Recall: 0.6017\n",
            "\n",
            "\n",
            "K-Neighbors Classifier\n",
            "Model performance for Training set\n",
            "- Accuracy: 0.7516\n",
            "- F1 score: 0.7516\n",
            "- Precision: 0.7516\n",
            "- Recall: 0.7516\n",
            "\n",
            "\n",
            "XGBClassifier\n",
            "Model performance for Training set\n",
            "- Accuracy: 0.6490\n",
            "- F1 score: 0.6490\n",
            "- Precision: 0.6490\n",
            "- Recall: 0.6490\n",
            "\n",
            "\n",
            "CatBoosting Classifier\n",
            "Model performance for Training set\n",
            "- Accuracy: 0.7822\n",
            "- F1 score: 0.7822\n",
            "- Precision: 0.7822\n",
            "- Recall: 0.7822\n",
            "\n",
            "\n",
            "AdaBoost Classifier\n",
            "Model performance for Training set\n",
            "- Accuracy: 0.6296\n",
            "- F1 score: 0.6296\n",
            "- Precision: 0.6296\n",
            "- Recall: 0.6296\n",
            "\n",
            "\n",
            "Random Forest\n",
            "Model performance for Test set\n",
            "- Accuracy: 0.8221\n",
            "- F1 score: 0.8221\n",
            "- Precision: 0.8221\n",
            "- Recall: 0.8221\n",
            "\n",
            "\n",
            "Decision Tree\n",
            "Model performance for Test set\n",
            "- Accuracy: 0.8716\n",
            "- F1 score: 0.8716\n",
            "- Precision: 0.8716\n",
            "- Recall: 0.8716\n",
            "\n",
            "\n",
            "Gradient Boosting\n",
            "Model performance for Test set\n",
            "- Accuracy: 0.6566\n",
            "- F1 score: 0.6566\n",
            "- Precision: 0.6566\n",
            "- Recall: 0.6566\n",
            "\n",
            "\n",
            "Logistic Regression\n",
            "Model performance for Test set\n",
            "- Accuracy: 0.6029\n",
            "- F1 score: 0.6029\n",
            "- Precision: 0.6029\n",
            "- Recall: 0.6029\n",
            "\n",
            "\n",
            "K-Neighbors Classifier\n",
            "Model performance for Test set\n",
            "- Accuracy: 0.6086\n",
            "- F1 score: 0.6086\n",
            "- Precision: 0.6086\n",
            "- Recall: 0.6086\n",
            "\n",
            "\n",
            "XGBClassifier\n",
            "Model performance for Test set\n",
            "- Accuracy: 0.6459\n",
            "- F1 score: 0.6459\n",
            "- Precision: 0.6459\n",
            "- Recall: 0.6459\n",
            "\n",
            "\n",
            "CatBoosting Classifier\n",
            "Model performance for Test set\n",
            "- Accuracy: 0.7365\n",
            "- F1 score: 0.7365\n",
            "- Precision: 0.7365\n",
            "- Recall: 0.7365\n",
            "\n",
            "\n",
            "AdaBoost Classifier\n",
            "Model performance for Test set\n",
            "- Accuracy: 0.6266\n",
            "- F1 score: 0.6266\n",
            "- Precision: 0.6266\n",
            "- Recall: 0.6266\n",
            "\n",
            "\n"
          ]
        }
      ]
    },
    {
      "cell_type": "markdown",
      "source": [
        "## Experiment: 4 = MICE for Imputing Null values\n",
        "### MICE stands for Multivariate Imputation By Chained Equations algorithm\n",
        "### This technique by which we can effortlessly impute missing values in a dataset by looking at data from other columns and trying to estimate the best prediction for each missing value.\n",
        "### ImputationKernel Creates a kernel dataset. This dataset can perform MICE on itself, and impute new data from models obtained during MICE."
      ],
      "metadata": {
        "id": "p3W1n62AiRRt"
      }
    },
    {
      "cell_type": "code",
      "source": [
        "!pip install miceforest"
      ],
      "metadata": {
        "colab": {
          "base_uri": "https://localhost:8080/"
        },
        "id": "wp5uiL0hixE-",
        "outputId": "8a94b108-0ba4-438a-82d6-6fc03699d104"
      },
      "execution_count": 126,
      "outputs": [
        {
          "output_type": "stream",
          "name": "stdout",
          "text": [
            "Looking in indexes: https://pypi.org/simple, https://us-python.pkg.dev/colab-wheels/public/simple/\n",
            "Collecting miceforest\n",
            "  Downloading miceforest-5.6.3-py3-none-any.whl (57 kB)\n",
            "\u001b[K     |████████████████████████████████| 57 kB 4.8 MB/s \n",
            "\u001b[?25hCollecting blosc\n",
            "  Downloading blosc-1.11.0-cp38-cp38-manylinux_2_17_x86_64.manylinux2014_x86_64.whl (2.5 MB)\n",
            "\u001b[K     |████████████████████████████████| 2.5 MB 38.2 MB/s \n",
            "\u001b[?25hCollecting lightgbm>=3.3.1\n",
            "  Downloading lightgbm-3.3.3-py3-none-manylinux1_x86_64.whl (2.0 MB)\n",
            "\u001b[K     |████████████████████████████████| 2.0 MB 49.6 MB/s \n",
            "\u001b[?25hRequirement already satisfied: numpy in /usr/local/lib/python3.8/dist-packages (from miceforest) (1.21.6)\n",
            "Requirement already satisfied: dill in /usr/local/lib/python3.8/dist-packages (from miceforest) (0.3.6)\n",
            "Requirement already satisfied: scikit-learn!=0.22.0 in /usr/local/lib/python3.8/dist-packages (from lightgbm>=3.3.1->miceforest) (1.0.2)\n",
            "Requirement already satisfied: scipy in /usr/local/lib/python3.8/dist-packages (from lightgbm>=3.3.1->miceforest) (1.7.3)\n",
            "Requirement already satisfied: wheel in /usr/local/lib/python3.8/dist-packages (from lightgbm>=3.3.1->miceforest) (0.38.4)\n",
            "Requirement already satisfied: joblib>=0.11 in /usr/local/lib/python3.8/dist-packages (from scikit-learn!=0.22.0->lightgbm>=3.3.1->miceforest) (1.2.0)\n",
            "Requirement already satisfied: threadpoolctl>=2.0.0 in /usr/local/lib/python3.8/dist-packages (from scikit-learn!=0.22.0->lightgbm>=3.3.1->miceforest) (3.1.0)\n",
            "Installing collected packages: lightgbm, blosc, miceforest\n",
            "  Attempting uninstall: lightgbm\n",
            "    Found existing installation: lightgbm 2.2.3\n",
            "    Uninstalling lightgbm-2.2.3:\n",
            "      Successfully uninstalled lightgbm-2.2.3\n",
            "Successfully installed blosc-1.11.0 lightgbm-3.3.3 miceforest-5.6.3\n"
          ]
        }
      ]
    },
    {
      "cell_type": "code",
      "source": [
        "X_train, X_test, y_train, y_test = train_test_split(X_new,y,test_size=0.2,random_state=42)"
      ],
      "metadata": {
        "id": "-HboOzjdOEuq"
      },
      "execution_count": 127,
      "outputs": []
    },
    {
      "cell_type": "code",
      "source": [
        "import miceforest as mf\n",
        "\n",
        "X_mice_train = X_train.copy()\n",
        "kernel = mf.ImputationKernel(\n",
        "  X_mice_train,\n",
        "  save_all_iterations=True,\n",
        "  random_state=1989)"
      ],
      "metadata": {
        "id": "WRfQ29DaiQZK"
      },
      "execution_count": 173,
      "outputs": []
    },
    {
      "cell_type": "code",
      "source": [
        "X_mice_train = kernel.complete_data()\n",
        "\n",
        "# fit robust scaler\n",
        "mice_pipeline = Pipeline(steps=[\n",
        "    ('RobustScaler', RobustScaler())\n",
        "])\n",
        "\n",
        "# Fit X with Mice imputer \n",
        "X_mice_train= mice_pipeline.fit_transform(X_mice_train)"
      ],
      "metadata": {
        "id": "H31OyVWrg4Kd"
      },
      "execution_count": 174,
      "outputs": []
    },
    {
      "cell_type": "code",
      "source": [
        "X_mice_train.shape"
      ],
      "metadata": {
        "id": "iLTeLomph5XM",
        "outputId": "33593cba-e66c-45e6-cf10-2a70ac66badc",
        "colab": {
          "base_uri": "https://localhost:8080/"
        }
      },
      "execution_count": 175,
      "outputs": [
        {
          "output_type": "execute_result",
          "data": {
            "text/plain": [
              "(35808, 7)"
            ]
          },
          "metadata": {},
          "execution_count": 175
        }
      ]
    },
    {
      "cell_type": "code",
      "source": [
        "\n",
        "X_mice_test = X_test.copy()\n",
        "kernel = mf.ImputationKernel(\n",
        "  X_mice_test,\n",
        "  save_all_iterations=True,\n",
        "  random_state=1989)"
      ],
      "metadata": {
        "id": "a8Wu2jQxOKZC"
      },
      "execution_count": 176,
      "outputs": []
    },
    {
      "cell_type": "code",
      "source": [
        "X_mice_test = kernel.complete_data()\n",
        "# Fit X with Mice imputer \n",
        "X_mice_test= mice_pipeline.transform(X_mice_test)"
      ],
      "metadata": {
        "id": "PxRl1xWdh9WH"
      },
      "execution_count": 177,
      "outputs": []
    },
    {
      "cell_type": "code",
      "source": [
        "X_mice_test.shape"
      ],
      "metadata": {
        "id": "Cv9RSQzLgk-q",
        "outputId": "99e25472-baf9-4099-b2b5-8fcc809455e2",
        "colab": {
          "base_uri": "https://localhost:8080/"
        }
      },
      "execution_count": 179,
      "outputs": [
        {
          "output_type": "execute_result",
          "data": {
            "text/plain": [
              "(8952, 7)"
            ]
          },
          "metadata": {},
          "execution_count": 179
        }
      ]
    },
    {
      "cell_type": "code",
      "source": [
        "report_mice_train = evaluate_models_train(X_mice_train, y_train, models)"
      ],
      "metadata": {
        "id": "n1T091XhUrCC",
        "outputId": "d3ba02af-947d-46d3-bcac-ede62e99a8f7",
        "colab": {
          "base_uri": "https://localhost:8080/"
        }
      },
      "execution_count": 170,
      "outputs": [
        {
          "output_type": "stream",
          "name": "stdout",
          "text": [
            "Random Forest\n",
            "Model performance for Training set\n",
            "- Accuracy: 0.9977\n",
            "- F1 score: 0.9977\n",
            "- Precision: 0.9977\n",
            "- Recall: 0.9977\n",
            "\n",
            "\n",
            "Decision Tree\n",
            "Model performance for Training set\n",
            "- Accuracy: 0.9977\n",
            "- F1 score: 0.9977\n",
            "- Precision: 0.9977\n",
            "- Recall: 0.9977\n",
            "\n",
            "\n",
            "Gradient Boosting\n",
            "Model performance for Training set\n",
            "- Accuracy: 0.6659\n",
            "- F1 score: 0.6659\n",
            "- Precision: 0.6659\n",
            "- Recall: 0.6659\n",
            "\n",
            "\n",
            "Logistic Regression\n",
            "Model performance for Training set\n",
            "- Accuracy: 0.6017\n",
            "- F1 score: 0.6017\n",
            "- Precision: 0.6017\n",
            "- Recall: 0.6017\n",
            "\n",
            "\n",
            "K-Neighbors Classifier\n",
            "Model performance for Training set\n",
            "- Accuracy: 0.7515\n",
            "- F1 score: 0.7515\n",
            "- Precision: 0.7515\n",
            "- Recall: 0.7515\n",
            "\n",
            "\n",
            "XGBClassifier\n",
            "Model performance for Training set\n",
            "- Accuracy: 0.6501\n",
            "- F1 score: 0.6501\n",
            "- Precision: 0.6501\n",
            "- Recall: 0.6501\n",
            "\n",
            "\n",
            "CatBoosting Classifier\n",
            "Model performance for Training set\n",
            "- Accuracy: 0.7815\n",
            "- F1 score: 0.7815\n",
            "- Precision: 0.7815\n",
            "- Recall: 0.7815\n",
            "\n",
            "\n",
            "AdaBoost Classifier\n",
            "Model performance for Training set\n",
            "- Accuracy: 0.6297\n",
            "- F1 score: 0.6297\n",
            "- Precision: 0.6297\n",
            "- Recall: 0.6297\n",
            "\n",
            "\n"
          ]
        }
      ]
    },
    {
      "cell_type": "code",
      "source": [
        "# Training the models\n",
        "report_mice_test = evaluate_models_test(X_mice_test, y_test, models)"
      ],
      "metadata": {
        "id": "vmmad1nZUUgd",
        "outputId": "ad07e0ca-ae8c-4e89-d3c8-4319cf90fd0a",
        "colab": {
          "base_uri": "https://localhost:8080/"
        }
      },
      "execution_count": 180,
      "outputs": [
        {
          "output_type": "stream",
          "name": "stdout",
          "text": [
            "Random Forest\n",
            "Model performance for Test set\n",
            "- Accuracy: 0.8197\n",
            "- F1 score: 0.8197\n",
            "- Precision: 0.8197\n",
            "- Recall: 0.8197\n",
            "\n",
            "\n",
            "Decision Tree\n",
            "Model performance for Test set\n",
            "- Accuracy: 0.8671\n",
            "- F1 score: 0.8671\n",
            "- Precision: 0.8671\n",
            "- Recall: 0.8671\n",
            "\n",
            "\n",
            "Gradient Boosting\n",
            "Model performance for Test set\n",
            "- Accuracy: 0.6547\n",
            "- F1 score: 0.6547\n",
            "- Precision: 0.6547\n",
            "- Recall: 0.6547\n",
            "\n",
            "\n",
            "Logistic Regression\n",
            "Model performance for Test set\n",
            "- Accuracy: 0.6029\n",
            "- F1 score: 0.6029\n",
            "- Precision: 0.6029\n",
            "- Recall: 0.6029\n",
            "\n",
            "\n",
            "K-Neighbors Classifier\n",
            "Model performance for Test set\n",
            "- Accuracy: 0.6080\n",
            "- F1 score: 0.6080\n",
            "- Precision: 0.6080\n",
            "- Recall: 0.6080\n",
            "\n",
            "\n",
            "XGBClassifier\n",
            "Model performance for Test set\n",
            "- Accuracy: 0.6464\n",
            "- F1 score: 0.6464\n",
            "- Precision: 0.6464\n",
            "- Recall: 0.6464\n",
            "\n",
            "\n",
            "CatBoosting Classifier\n",
            "Model performance for Test set\n",
            "- Accuracy: 0.7365\n",
            "- F1 score: 0.7365\n",
            "- Precision: 0.7365\n",
            "- Recall: 0.7365\n",
            "\n",
            "\n",
            "AdaBoost Classifier\n",
            "Model performance for Test set\n",
            "- Accuracy: 0.6265\n",
            "- F1 score: 0.6265\n",
            "- Precision: 0.6265\n",
            "- Recall: 0.6265\n",
            "\n",
            "\n"
          ]
        }
      ]
    },
    {
      "cell_type": "markdown",
      "source": [
        "## Experiment: 5 = Simple Imputer with Strategy Mean\n",
        "\n",
        "### Another strategy which can be used is replacing missing values with mean\n",
        "\n",
        "### Here we replace the missing values with the mean of the column"
      ],
      "metadata": {
        "id": "UVrY1KGRjeSF"
      }
    },
    {
      "cell_type": "code",
      "source": [
        "\n",
        "# Fit the Simple imputer with strategy median\n",
        "median_pipeline = Pipeline(steps=[\n",
        "    ('imputer', SimpleImputer(strategy='mean')),\n",
        "    ('RobustScaler', RobustScaler())\n",
        "])\n",
        "\n",
        "# Fit X with median_pipeline\n",
        "X_mean_train = median_pipeline.fit_transform(X_train)\n",
        "\n",
        "# Training the models\n",
        "report_mean = evaluate_models_train(X_mean_train, y_train, models)"
      ],
      "metadata": {
        "colab": {
          "base_uri": "https://localhost:8080/"
        },
        "id": "SRtnGT6IjdWd",
        "outputId": "47a2aa72-ea6b-48f5-fd41-c48b09b35690"
      },
      "execution_count": 184,
      "outputs": [
        {
          "output_type": "stream",
          "name": "stdout",
          "text": [
            "Random Forest\n",
            "Model performance for Training set\n",
            "- Accuracy: 0.9977\n",
            "- F1 score: 0.9977\n",
            "- Precision: 0.9977\n",
            "- Recall: 0.9977\n",
            "\n",
            "\n",
            "Decision Tree\n",
            "Model performance for Training set\n",
            "- Accuracy: 0.9977\n",
            "- F1 score: 0.9977\n",
            "- Precision: 0.9977\n",
            "- Recall: 0.9977\n",
            "\n",
            "\n",
            "Gradient Boosting\n",
            "Model performance for Training set\n",
            "- Accuracy: 0.6668\n",
            "- F1 score: 0.6668\n",
            "- Precision: 0.6668\n",
            "- Recall: 0.6668\n",
            "\n",
            "\n",
            "Logistic Regression\n",
            "Model performance for Training set\n",
            "- Accuracy: 0.6017\n",
            "- F1 score: 0.6017\n",
            "- Precision: 0.6017\n",
            "- Recall: 0.6017\n",
            "\n",
            "\n",
            "K-Neighbors Classifier\n",
            "Model performance for Training set\n",
            "- Accuracy: 0.7516\n",
            "- F1 score: 0.7516\n",
            "- Precision: 0.7516\n",
            "- Recall: 0.7516\n",
            "\n",
            "\n",
            "XGBClassifier\n",
            "Model performance for Training set\n",
            "- Accuracy: 0.6497\n",
            "- F1 score: 0.6497\n",
            "- Precision: 0.6497\n",
            "- Recall: 0.6497\n",
            "\n",
            "\n",
            "CatBoosting Classifier\n",
            "Model performance for Training set\n",
            "- Accuracy: 0.7831\n",
            "- F1 score: 0.7831\n",
            "- Precision: 0.7831\n",
            "- Recall: 0.7831\n",
            "\n",
            "\n",
            "AdaBoost Classifier\n",
            "Model performance for Training set\n",
            "- Accuracy: 0.6296\n",
            "- F1 score: 0.6296\n",
            "- Precision: 0.6296\n",
            "- Recall: 0.6296\n",
            "\n",
            "\n"
          ]
        }
      ]
    },
    {
      "cell_type": "code",
      "source": [
        "# Fit the Simple imputer with strategy median\n",
        "\n",
        "# Fit X with median_pipeline\n",
        "X_mean_test = median_pipeline.transform(X_test)\n",
        "\n",
        "# Training the models\n",
        "report_mean = evaluate_models_test(X_mean_test, y_test, models)"
      ],
      "metadata": {
        "id": "fpyehfmFirnr",
        "outputId": "bf57c402-21ea-4ccb-b460-514723f5f5bb",
        "colab": {
          "base_uri": "https://localhost:8080/"
        }
      },
      "execution_count": 185,
      "outputs": [
        {
          "output_type": "stream",
          "name": "stdout",
          "text": [
            "Random Forest\n",
            "Model performance for Test set\n",
            "- Accuracy: 0.8198\n",
            "- F1 score: 0.8198\n",
            "- Precision: 0.8198\n",
            "- Recall: 0.8198\n",
            "\n",
            "\n",
            "Decision Tree\n",
            "Model performance for Test set\n",
            "- Accuracy: 0.8703\n",
            "- F1 score: 0.8703\n",
            "- Precision: 0.8703\n",
            "- Recall: 0.8703\n",
            "\n",
            "\n",
            "Gradient Boosting\n",
            "Model performance for Test set\n",
            "- Accuracy: 0.6569\n",
            "- F1 score: 0.6569\n",
            "- Precision: 0.6569\n",
            "- Recall: 0.6569\n",
            "\n",
            "\n",
            "Logistic Regression\n",
            "Model performance for Test set\n",
            "- Accuracy: 0.6029\n",
            "- F1 score: 0.6029\n",
            "- Precision: 0.6029\n",
            "- Recall: 0.6029\n",
            "\n",
            "\n",
            "K-Neighbors Classifier\n",
            "Model performance for Test set\n",
            "- Accuracy: 0.6084\n",
            "- F1 score: 0.6084\n",
            "- Precision: 0.6084\n",
            "- Recall: 0.6084\n",
            "\n",
            "\n",
            "XGBClassifier\n",
            "Model performance for Test set\n",
            "- Accuracy: 0.6461\n",
            "- F1 score: 0.6461\n",
            "- Precision: 0.6461\n",
            "- Recall: 0.6461\n",
            "\n",
            "\n",
            "CatBoosting Classifier\n",
            "Model performance for Test set\n",
            "- Accuracy: 0.7363\n",
            "- F1 score: 0.7363\n",
            "- Precision: 0.7363\n",
            "- Recall: 0.7363\n",
            "\n",
            "\n",
            "AdaBoost Classifier\n",
            "Model performance for Test set\n",
            "- Accuracy: 0.6266\n",
            "- F1 score: 0.6266\n",
            "- Precision: 0.6266\n",
            "- Recall: 0.6266\n",
            "\n",
            "\n"
          ]
        }
      ]
    },
    {
      "cell_type": "code",
      "source": [],
      "metadata": {
        "id": "Q4QyFXdxjdd2"
      },
      "execution_count": null,
      "outputs": []
    }
  ],
  "metadata": {
    "colab": {
      "provenance": [],
      "authorship_tag": "ABX9TyONpegavO7GWrP/IqwdMR1N",
      "include_colab_link": true
    },
    "gpuClass": "standard",
    "kernelspec": {
      "display_name": "Python 3",
      "name": "python3"
    },
    "language_info": {
      "name": "python"
    }
  },
  "nbformat": 4,
  "nbformat_minor": 0
}